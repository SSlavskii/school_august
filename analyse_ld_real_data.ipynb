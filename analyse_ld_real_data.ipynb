{
 "cells": [
  {
   "cell_type": "code",
   "execution_count": 39,
   "metadata": {},
   "outputs": [],
   "source": [
    "import pandas as pd"
   ]
  },
  {
   "cell_type": "code",
   "execution_count": 69,
   "metadata": {},
   "outputs": [
    {
     "data": {
      "text/plain": [
       "(1422121, 7)"
      ]
     },
     "execution_count": 69,
     "metadata": {},
     "output_type": "execute_result"
    }
   ],
   "source": [
    "df = pd.read_csv(\"all_chr.ld\", sep='\\t')\n",
    "df.shape"
   ]
  },
  {
   "cell_type": "code",
   "execution_count": 70,
   "metadata": {},
   "outputs": [
    {
     "data": {
      "text/html": [
       "<div>\n",
       "<style>\n",
       "    .dataframe thead tr:only-child th {\n",
       "        text-align: right;\n",
       "    }\n",
       "\n",
       "    .dataframe thead th {\n",
       "        text-align: left;\n",
       "    }\n",
       "\n",
       "    .dataframe tbody tr th {\n",
       "        vertical-align: top;\n",
       "    }\n",
       "</style>\n",
       "<table border=\"1\" class=\"dataframe\">\n",
       "  <thead>\n",
       "    <tr style=\"text-align: right;\">\n",
       "      <th></th>\n",
       "      <th>CHR_A</th>\n",
       "      <th>BP_A</th>\n",
       "      <th>SNP_A</th>\n",
       "      <th>CHR_B</th>\n",
       "      <th>BP_B</th>\n",
       "      <th>SNP_B</th>\n",
       "      <th>R</th>\n",
       "    </tr>\n",
       "  </thead>\n",
       "  <tbody>\n",
       "    <tr>\n",
       "      <th>0</th>\n",
       "      <td>1</td>\n",
       "      <td>5753350</td>\n",
       "      <td>rs2649071</td>\n",
       "      <td>1</td>\n",
       "      <td>5603483</td>\n",
       "      <td>rs563013986</td>\n",
       "      <td>-0.041173</td>\n",
       "    </tr>\n",
       "    <tr>\n",
       "      <th>1</th>\n",
       "      <td>1</td>\n",
       "      <td>5753350</td>\n",
       "      <td>rs2649071</td>\n",
       "      <td>1</td>\n",
       "      <td>5603539</td>\n",
       "      <td>rs61762071</td>\n",
       "      <td>0.007296</td>\n",
       "    </tr>\n",
       "    <tr>\n",
       "      <th>2</th>\n",
       "      <td>1</td>\n",
       "      <td>5753350</td>\n",
       "      <td>rs2649071</td>\n",
       "      <td>1</td>\n",
       "      <td>5603612</td>\n",
       "      <td>rs144568853</td>\n",
       "      <td>0.095528</td>\n",
       "    </tr>\n",
       "    <tr>\n",
       "      <th>3</th>\n",
       "      <td>1</td>\n",
       "      <td>5753350</td>\n",
       "      <td>rs2649071</td>\n",
       "      <td>1</td>\n",
       "      <td>5603709</td>\n",
       "      <td>rs548650174</td>\n",
       "      <td>0.027177</td>\n",
       "    </tr>\n",
       "    <tr>\n",
       "      <th>4</th>\n",
       "      <td>1</td>\n",
       "      <td>5753350</td>\n",
       "      <td>rs2649071</td>\n",
       "      <td>1</td>\n",
       "      <td>5603850</td>\n",
       "      <td>rs7515958</td>\n",
       "      <td>-0.058977</td>\n",
       "    </tr>\n",
       "  </tbody>\n",
       "</table>\n",
       "</div>"
      ],
      "text/plain": [
       "   CHR_A     BP_A      SNP_A  CHR_B     BP_B        SNP_B         R\n",
       "0      1  5753350  rs2649071      1  5603483  rs563013986 -0.041173\n",
       "1      1  5753350  rs2649071      1  5603539   rs61762071  0.007296\n",
       "2      1  5753350  rs2649071      1  5603612  rs144568853  0.095528\n",
       "3      1  5753350  rs2649071      1  5603709  rs548650174  0.027177\n",
       "4      1  5753350  rs2649071      1  5603850    rs7515958 -0.058977"
      ]
     },
     "execution_count": 70,
     "metadata": {},
     "output_type": "execute_result"
    }
   ],
   "source": [
    "df.head()"
   ]
  },
  {
   "cell_type": "code",
   "execution_count": 59,
   "metadata": {},
   "outputs": [],
   "source": [
    "df.drop(df[abs(df[\"R\"])<0.2].index, inplace=True)"
   ]
  },
  {
   "cell_type": "code",
   "execution_count": 62,
   "metadata": {},
   "outputs": [
    {
     "data": {
      "text/plain": [
       "(1933, 8)"
      ]
     },
     "execution_count": 62,
     "metadata": {},
     "output_type": "execute_result"
    }
   ],
   "source": [
    "df.shape"
   ]
  },
  {
   "cell_type": "code",
   "execution_count": 63,
   "metadata": {},
   "outputs": [
    {
     "data": {
      "text/html": [
       "<div>\n",
       "<style>\n",
       "    .dataframe thead tr:only-child th {\n",
       "        text-align: right;\n",
       "    }\n",
       "\n",
       "    .dataframe thead th {\n",
       "        text-align: left;\n",
       "    }\n",
       "\n",
       "    .dataframe tbody tr th {\n",
       "        vertical-align: top;\n",
       "    }\n",
       "</style>\n",
       "<table border=\"1\" class=\"dataframe\">\n",
       "  <thead>\n",
       "    <tr style=\"text-align: right;\">\n",
       "      <th></th>\n",
       "      <th>CHR_A</th>\n",
       "      <th>BP_A</th>\n",
       "      <th>SNP_A</th>\n",
       "      <th>CHR_B</th>\n",
       "      <th>BP_B</th>\n",
       "      <th>SNP_B</th>\n",
       "      <th>R</th>\n",
       "      <th>dist</th>\n",
       "    </tr>\n",
       "  </thead>\n",
       "  <tbody>\n",
       "    <tr>\n",
       "      <th>10368</th>\n",
       "      <td>21</td>\n",
       "      <td>31011056</td>\n",
       "      <td>rs1029224</td>\n",
       "      <td>21</td>\n",
       "      <td>30990268</td>\n",
       "      <td>rs363436</td>\n",
       "      <td>0.896011</td>\n",
       "      <td>20788</td>\n",
       "    </tr>\n",
       "    <tr>\n",
       "      <th>10386</th>\n",
       "      <td>21</td>\n",
       "      <td>31011056</td>\n",
       "      <td>rs1029224</td>\n",
       "      <td>21</td>\n",
       "      <td>30991903</td>\n",
       "      <td>rs67113233</td>\n",
       "      <td>0.904458</td>\n",
       "      <td>19153</td>\n",
       "    </tr>\n",
       "    <tr>\n",
       "      <th>19495</th>\n",
       "      <td>21</td>\n",
       "      <td>46012524</td>\n",
       "      <td>rs418260</td>\n",
       "      <td>21</td>\n",
       "      <td>46016112</td>\n",
       "      <td>rs390630</td>\n",
       "      <td>0.908987</td>\n",
       "      <td>3588</td>\n",
       "    </tr>\n",
       "    <tr>\n",
       "      <th>19496</th>\n",
       "      <td>21</td>\n",
       "      <td>46012524</td>\n",
       "      <td>rs418260</td>\n",
       "      <td>21</td>\n",
       "      <td>46016119</td>\n",
       "      <td>rs390632</td>\n",
       "      <td>0.908987</td>\n",
       "      <td>3595</td>\n",
       "    </tr>\n",
       "  </tbody>\n",
       "</table>\n",
       "</div>"
      ],
      "text/plain": [
       "       CHR_A      BP_A      SNP_A  CHR_B      BP_B       SNP_B         R  \\\n",
       "10368     21  31011056  rs1029224     21  30990268    rs363436  0.896011   \n",
       "10386     21  31011056  rs1029224     21  30991903  rs67113233  0.904458   \n",
       "19495     21  46012524   rs418260     21  46016112    rs390630  0.908987   \n",
       "19496     21  46012524   rs418260     21  46016119    rs390632  0.908987   \n",
       "\n",
       "        dist  \n",
       "10368  20788  \n",
       "10386  19153  \n",
       "19495   3588  \n",
       "19496   3595  "
      ]
     },
     "execution_count": 63,
     "metadata": {},
     "output_type": "execute_result"
    }
   ],
   "source": [
    "df[(abs(df['R']) > 0.89) & (abs(df[\"R\"]) < 0.91)]"
   ]
  },
  {
   "cell_type": "code",
   "execution_count": 64,
   "metadata": {},
   "outputs": [],
   "source": [
    "df['dist'] = abs(df['BP_A'] - df['BP_B'])"
   ]
  },
  {
   "cell_type": "code",
   "execution_count": 65,
   "metadata": {},
   "outputs": [],
   "source": [
    "import matplotlib.pyplot as plt"
   ]
  },
  {
   "cell_type": "code",
   "execution_count": 66,
   "metadata": {},
   "outputs": [
    {
     "data": {
      "image/png": "[encoded data removed]",
      "text/plain": [
       "<matplotlib.figure.Figure at 0x7fd6ec49cd30>"
      ]
     },
     "metadata": {},
     "output_type": "display_data"
    }
   ],
   "source": [
    "plt.scatter(df['dist'], abs(df['R']), alpha=0.5,s=0.7)\n",
    "plt.show()"
   ]
  },
  {
   "cell_type": "code",
   "execution_count": 68,
   "metadata": {},
   "outputs": [
    {
     "data": {
      "text/plain": [
       "'heterogeneity of linkage disequilibrium across human population and its influence on statistical properties of the conditional and joint models for genetic association testing '"
      ]
     },
     "execution_count": 68,
     "metadata": {},
     "output_type": "execute_result"
    }
   ],
   "source": [
    "s = \"HETEROGENEITY OF LINKAGE DISEQUILIBRIUM ACROSS HUMAN POPULATION AND ITS INFLUENCE ON STATISTICAL PROPERTIES OF THE CONDITIONAL AND JOINT MODELS FOR GENETIC ASSOCIATION TESTING \"\n",
    "s.lower()"
   ]
  }
 ],
 "metadata": {
  "kernelspec": {
   "display_name": "Python 3",
   "language": "python",
   "name": "python3"
  },
  "language_info": {
   "codemirror_mode": {
    "name": "ipython",
    "version": 3
   },
   "file_extension": ".py",
   "mimetype": "text/x-python",
   "name": "python",
   "nbconvert_exporter": "python",
   "pygments_lexer": "ipython3",
   "version": "3.5.2"
  }
 },
 "nbformat": 4,
 "nbformat_minor": 2
}
