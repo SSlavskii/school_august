{
 "cells": [
  {
   "cell_type": "code",
   "execution_count": 1,
   "metadata": {},
   "outputs": [],
   "source": [
    "import gc\n",
    "import pandas as pd\n",
    "import matplotlib.pyplot as plt\n",
    "import numpy as np\n",
    "from scipy.stats import norm\n",
    "gc.enable()"
   ]
  },
  {
   "cell_type": "code",
   "execution_count": 2,
   "metadata": {},
   "outputs": [
    {
     "data": {
      "text/html": [
       "<div>\n",
       "<style>\n",
       "    .dataframe thead tr:only-child th {\n",
       "        text-align: right;\n",
       "    }\n",
       "\n",
       "    .dataframe thead th {\n",
       "        text-align: left;\n",
       "    }\n",
       "\n",
       "    .dataframe tbody tr th {\n",
       "        vertical-align: top;\n",
       "    }\n",
       "</style>\n",
       "<table border=\"1\" class=\"dataframe\">\n",
       "  <thead>\n",
       "    <tr style=\"text-align: right;\">\n",
       "      <th></th>\n",
       "      <th>ref_rs_id</th>\n",
       "      <th>ref_chr</th>\n",
       "      <th>ref_bp</th>\n",
       "      <th>ref_af</th>\n",
       "      <th>ref_allele</th>\n",
       "      <th>ref_other_allele</th>\n",
       "      <th>ref_snp_num</th>\n",
       "    </tr>\n",
       "  </thead>\n",
       "  <tbody>\n",
       "    <tr>\n",
       "      <th>0</th>\n",
       "      <td>rs7518469</td>\n",
       "      <td>1</td>\n",
       "      <td>4756276</td>\n",
       "      <td>0.94036</td>\n",
       "      <td>G</td>\n",
       "      <td>T</td>\n",
       "      <td>7518469</td>\n",
       "    </tr>\n",
       "    <tr>\n",
       "      <th>1</th>\n",
       "      <td>rs7521197</td>\n",
       "      <td>1</td>\n",
       "      <td>5758772</td>\n",
       "      <td>0.07654</td>\n",
       "      <td>C</td>\n",
       "      <td>T</td>\n",
       "      <td>7521197</td>\n",
       "    </tr>\n",
       "  </tbody>\n",
       "</table>\n",
       "</div>"
      ],
      "text/plain": [
       "   ref_rs_id  ref_chr   ref_bp   ref_af ref_allele ref_other_allele  \\\n",
       "0  rs7518469        1  4756276  0.94036          G                T   \n",
       "1  rs7521197        1  5758772  0.07654          C                T   \n",
       "\n",
       "   ref_snp_num  \n",
       "0      7518469  \n",
       "1      7521197  "
      ]
     },
     "execution_count": 2,
     "metadata": {},
     "output_type": "execute_result"
    }
   ],
   "source": [
    "df_core_snps = pd.read_csv(\"core_snps_filtered.csv\", sep='\\t')\n",
    "df_core_snps.head(2)"
   ]
  },
  {
   "cell_type": "code",
   "execution_count": 3,
   "metadata": {},
   "outputs": [
    {
     "data": {
      "text/html": [
       "<div>\n",
       "<style>\n",
       "    .dataframe thead tr:only-child th {\n",
       "        text-align: right;\n",
       "    }\n",
       "\n",
       "    .dataframe thead th {\n",
       "        text-align: left;\n",
       "    }\n",
       "\n",
       "    .dataframe tbody tr th {\n",
       "        vertical-align: top;\n",
       "    }\n",
       "</style>\n",
       "<table border=\"1\" class=\"dataframe\">\n",
       "  <thead>\n",
       "    <tr style=\"text-align: right;\">\n",
       "      <th></th>\n",
       "      <th>CHR_A</th>\n",
       "      <th>BP_A</th>\n",
       "      <th>SNP_A</th>\n",
       "      <th>MAF_A</th>\n",
       "      <th>CHR_B</th>\n",
       "      <th>BP_B</th>\n",
       "      <th>SNP_B</th>\n",
       "      <th>MAF_B</th>\n",
       "      <th>R</th>\n",
       "    </tr>\n",
       "  </thead>\n",
       "  <tbody>\n",
       "    <tr>\n",
       "      <th>0</th>\n",
       "      <td>1</td>\n",
       "      <td>4756276</td>\n",
       "      <td>rs7518469</td>\n",
       "      <td>0.059642</td>\n",
       "      <td>1</td>\n",
       "      <td>4515277</td>\n",
       "      <td>rs1213919</td>\n",
       "      <td>0.489066</td>\n",
       "      <td>-0.104870</td>\n",
       "    </tr>\n",
       "    <tr>\n",
       "      <th>1</th>\n",
       "      <td>1</td>\n",
       "      <td>4756276</td>\n",
       "      <td>rs7518469</td>\n",
       "      <td>0.059642</td>\n",
       "      <td>1</td>\n",
       "      <td>4522799</td>\n",
       "      <td>rs651713</td>\n",
       "      <td>0.346918</td>\n",
       "      <td>0.113732</td>\n",
       "    </tr>\n",
       "  </tbody>\n",
       "</table>\n",
       "</div>"
      ],
      "text/plain": [
       "   CHR_A     BP_A      SNP_A     MAF_A  CHR_B     BP_B      SNP_B     MAF_B  \\\n",
       "0      1  4756276  rs7518469  0.059642      1  4515277  rs1213919  0.489066   \n",
       "1      1  4756276  rs7518469  0.059642      1  4522799   rs651713  0.346918   \n",
       "\n",
       "          R  \n",
       "0 -0.104870  \n",
       "1  0.113732  "
      ]
     },
     "execution_count": 3,
     "metadata": {},
     "output_type": "execute_result"
    }
   ],
   "source": [
    "df_eur = pd.read_csv(\"eur_tables/EUR_all_chr.ld\", sep='\\t')\n",
    "df_british = pd.read_csv(\"eur_tables/British_all_chr.ld\", sep='\\t')\n",
    "df_ceph = pd.read_csv(\"eur_tables/CEPH_all_chr.ld\", sep='\\t')\n",
    "df_finnish = pd.read_csv(\"eur_tables/Finnish_all_chr.ld\", sep='\\t')\n",
    "df_spanish = pd.read_csv(\"eur_tables/Spanish_all_chr.ld\", sep='\\t')\n",
    "df_tuscan = pd.read_csv(\"eur_tables/Tuscan_all_chr.ld\", sep='\\t')\n",
    "df_eur.head(2)"
   ]
  },
  {
   "cell_type": "code",
   "execution_count": 4,
   "metadata": {},
   "outputs": [
    {
     "data": {
      "text/plain": [
       "(1088934, 9)"
      ]
     },
     "execution_count": 4,
     "metadata": {},
     "output_type": "execute_result"
    }
   ],
   "source": [
    "df_british.shape"
   ]
  },
  {
   "cell_type": "code",
   "execution_count": 8,
   "metadata": {},
   "outputs": [],
   "source": [
    "df_dict = {'bri':df_british, 'ceph':df_ceph, 'fin':df_finnish, 'spa':df_spanish, 'tus':df_tuscan, 'eur':df_eur}\n",
    "size_dict = {'bri':91, 'ceph':99, 'fin':99, 'spa':107, 'tus':107, 'eur':503}\n",
    "nations = ['fin', 'spa', 'ceph', 'tus', 'bri', 'eur']\n",
    "for name, df in df_dict.items():\n",
    "    # incase we want to wilter out small r\n",
    "    df.drop(df[abs(df[\"R\"])<0.1].index,inplace=True)"
   ]
  },
  {
   "cell_type": "code",
   "execution_count": 9,
   "metadata": {},
   "outputs": [
    {
     "data": {
      "text/plain": [
       "(1088934, 9)"
      ]
     },
     "execution_count": 9,
     "metadata": {},
     "output_type": "execute_result"
    }
   ],
   "source": [
    "df_british.shape"
   ]
  },
  {
   "cell_type": "code",
   "execution_count": 10,
   "metadata": {},
   "outputs": [],
   "source": [
    "merged_df = None\n",
    "for name, df in df_dict.items():\n",
    "    if merged_df is None:\n",
    "        merged_df = df[['SNP_A', 'SNP_B', 'R']].copy()\n",
    "        merged_df.rename(index=str, columns={\"R\": name}, inplace=True)\n",
    "    else:\n",
    "        df = df.rename(index=str, columns={\"R\": name}, inplace=False)\n",
    "        merged_df = pd.merge(merged_df, df[['SNP_A', 'SNP_B', name]], how='inner', \n",
    "                       on=['SNP_A', 'SNP_B'])"
   ]
  },
  {
   "cell_type": "code",
   "execution_count": 40,
   "metadata": {},
   "outputs": [
    {
     "name": "stdout",
     "output_type": "stream",
     "text": [
      "(242562, 9)\n",
      "(242562, 9)\n"
     ]
    },
    {
     "data": {
      "text/html": [
       "<div>\n",
       "<style>\n",
       "    .dataframe thead tr:only-child th {\n",
       "        text-align: right;\n",
       "    }\n",
       "\n",
       "    .dataframe thead th {\n",
       "        text-align: left;\n",
       "    }\n",
       "\n",
       "    .dataframe tbody tr th {\n",
       "        vertical-align: top;\n",
       "    }\n",
       "</style>\n",
       "<table border=\"1\" class=\"dataframe\">\n",
       "  <thead>\n",
       "    <tr style=\"text-align: right;\">\n",
       "      <th></th>\n",
       "      <th>SNP_A</th>\n",
       "      <th>SNP_B</th>\n",
       "      <th>bri</th>\n",
       "      <th>eur</th>\n",
       "      <th>spa</th>\n",
       "      <th>ceph</th>\n",
       "      <th>tus</th>\n",
       "      <th>fin</th>\n",
       "      <th>average</th>\n",
       "    </tr>\n",
       "  </thead>\n",
       "  <tbody>\n",
       "    <tr>\n",
       "      <th>0</th>\n",
       "      <td>rs7521197</td>\n",
       "      <td>rs707593</td>\n",
       "      <td>0.323846</td>\n",
       "      <td>0.214508</td>\n",
       "      <td>0.250302</td>\n",
       "      <td>0.113991</td>\n",
       "      <td>0.161228</td>\n",
       "      <td>0.222214</td>\n",
       "      <td>0.214316</td>\n",
       "    </tr>\n",
       "    <tr>\n",
       "      <th>1</th>\n",
       "      <td>rs7521197</td>\n",
       "      <td>rs770702</td>\n",
       "      <td>0.202395</td>\n",
       "      <td>0.145569</td>\n",
       "      <td>0.109402</td>\n",
       "      <td>0.151899</td>\n",
       "      <td>0.180416</td>\n",
       "      <td>0.103178</td>\n",
       "      <td>0.149458</td>\n",
       "    </tr>\n",
       "  </tbody>\n",
       "</table>\n",
       "</div>"
      ],
      "text/plain": [
       "       SNP_A     SNP_B       bri       eur       spa      ceph       tus  \\\n",
       "0  rs7521197  rs707593  0.323846  0.214508  0.250302  0.113991  0.161228   \n",
       "1  rs7521197  rs770702  0.202395  0.145569  0.109402  0.151899  0.180416   \n",
       "\n",
       "        fin   average  \n",
       "0  0.222214  0.214316  \n",
       "1  0.103178  0.149458  "
      ]
     },
     "execution_count": 40,
     "metadata": {},
     "output_type": "execute_result"
    }
   ],
   "source": [
    "print(merged_df.shape)\n",
    "merged_df[['fin', 'spa', 'ceph', 'tus', 'bri','eur']] = abs(merged_df[['fin', 'spa', 'ceph', 'tus', 'bri', 'eur']])\n",
    "#because I missed flag --keep-allele-order\n",
    "merged_df.drop_duplicates(subset=['SNP_A', 'fin', 'spa', 'ceph', 'tus', 'bri'], inplace=True)\n",
    "#because many SNPs are in \n",
    "print(merged_df.shape)\n",
    "merged_df['average'] = np.mean(merged_df[['fin', 'spa', 'ceph', 'tus', 'bri']], axis=1)\n",
    "merged_df.head(2)"
   ]
  },
  {
   "cell_type": "code",
   "execution_count": 41,
   "metadata": {},
   "outputs": [],
   "source": [
    "def get_conf_interval(r, N=100, alpha=0.05):\n",
    "    z = np.arctanh(r)\n",
    "    SE = 1/np.sqrt(N-3)\n",
    "    z_alpha_2 = abs(norm.ppf(alpha/2))\n",
    "    lower_margin = np.tanh(z - SE * z_alpha_2)\n",
    "    upper_margin = np.tanh(z + SE * z_alpha_2)\n",
    "    return {\"lower\":lower_margin, \"upper\":upper_margin}\n",
    "\n",
    "def get_conf_interval_for_diff(r1, r2, n1=200, n2=200, alpha=0.05):\n",
    "    PE = r1 - r2\n",
    "    SE = np.sqrt((1 - r1**2)**2/n1 + (1 - r2**2)**2/n2)\n",
    "    z_alpha_2 = abs(norm.ppf(alpha/2))\n",
    "    lower_margin = PE - SE * z_alpha_2\n",
    "    upper_margin = PE + SE * z_alpha_2\n",
    "    return {\"lower\":lower_margin, \"upper\":upper_margin}\n",
    "\n",
    "def get_snp_pairs_in_range(lower_threshold, upper_threshold, nation):\n",
    "    df_temp = merged_df[(abs(merged_df[nation]) > lower_threshold) & \n",
    "                        (abs(merged_df[nation]) < upper_threshold)].copy()\n",
    "    df_temp = df_temp[~(df_temp==1).any(axis= 1)]\n",
    "    df_temp.drop_duplicates(subset='SNP_A', inplace=True)\n",
    "    return df_temp\n",
    "\n",
    "def get_margin_r_for_diff(r1, n1=200, n2=200, alpha=0.05):\n",
    "    z_alpha_2 = abs(norm.ppf(alpha/2))\n",
    "    for r2 in np.linspace(r1,1,1000):\n",
    "        PE = r1 - r2\n",
    "        SE = np.sqrt((1 - r1**2)**2/n1 + (1 - r2**2)**2/n2)\n",
    "        upper_margin = PE + SE * z_alpha_2\n",
    "        if upper_margin < 0:\n",
    "            r2_upper = r2\n",
    "            break\n",
    "    for r2 in np.linspace(r1,0,1000):\n",
    "        PE = r1 - r2\n",
    "        SE = np.sqrt((1 - r1**2)**2/n1 + (1 - r2**2)**2/n2)\n",
    "        lower_margin = PE - SE * z_alpha_2\n",
    "        if lower_margin > 0:\n",
    "            r2_lower = r2\n",
    "            break\n",
    "    return {\"r2_lower\":r2_lower, \"r2_upper\":r2_upper}"
   ]
  },
  {
   "cell_type": "code",
   "execution_count": 42,
   "metadata": {},
   "outputs": [
    {
     "name": "stdout",
     "output_type": "stream",
     "text": [
      "737\n"
     ]
    },
    {
     "data": {
      "image/png": "[encoded data removed]",
      "text/plain": [
       "<matplotlib.figure.Figure at 0x7f5b5aac5f60>"
      ]
     },
     "metadata": {},
     "output_type": "display_data"
    }
   ],
   "source": [
    "initial_r = 0.7\n",
    "initial_margin = 0.01\n",
    "df_temp = get_snp_pairs_in_range(initial_r - initial_margin , initial_r + initial_margin, nation='bri')\n",
    "print(len(df_temp))\n",
    "fig, ax = plt.subplots(figsize=(8, 5))\n",
    "\n",
    "df_temp = df_temp.sample(100)\n",
    "parts = ax.violinplot(np.array(df_temp['spa']), [1], showmeans=False, showextrema=False, showmedians=False)\n",
    "for pc in parts['bodies']:\n",
    "    pc.set_facecolor('#ff7f0e')\n",
    "# plotting the points\n",
    "ax.scatter(np.zeros(len(df_temp)), df_temp.bri, s=50, alpha=0.1)\n",
    "#ax.scatter(np.ones(len(df_temp)), df_temp.spa, s=500, alpha=0.1)\n",
    "\n",
    "# plotting the lines\n",
    "for index, row in df_temp.iterrows():\n",
    "    ax.plot( [0,1], [row.bri, row.spa], c='k', alpha=0.2)\n",
    "\n",
    "#ax.set_xticklabels( () )\n",
    "ax.set_xticks([0,1])\n",
    "ax.set_xticklabels(['British', 'Spanish'])\n",
    "ax.tick_params(axis = 'both', which = 'major', labelsize = 15)\n",
    "ax.xaxis.label.set_fontsize(15)\n",
    "ax.yaxis.label.set_fontsize(15)\n",
    "ax.set_ylabel('R')\n",
    "plt.savefig('British-Spanish.png', dpi=300)\n",
    "plt.show()\n",
    "plt.close()\n",
    "\n",
    "#print(\"Variance \\n\", df_temp[['ceph', 'spa', 'average', 'tus', 'fin', 'bri']].var())\n",
    "#print(\"mean \\n\", df_temp[['ceph', 'spa', 'average', 'tus', 'fin', 'bri']].mean())"
   ]
  },
  {
   "cell_type": "code",
   "execution_count": 43,
   "metadata": {},
   "outputs": [
    {
     "data": {
      "image/png": "[encoded data removed]",
      "text/plain": [
       "<matplotlib.figure.Figure at 0x7f5b58e44e10>"
      ]
     },
     "metadata": {},
     "output_type": "display_data"
    }
   ],
   "source": [
    "spanish_CI = get_conf_interval(initial_r, N=107*2)\n",
    "\n",
    "plt.hist(df_temp.spa, bins=20)\n",
    "plt.axvline(x=spanish_CI['lower'], c = 'k')\n",
    "plt.axvline(x=spanish_CI['upper'], c = 'k')\n",
    "plt.xlabel('R, Spanish')\n",
    "plt.show()"
   ]
  },
  {
   "cell_type": "code",
   "execution_count": 44,
   "metadata": {},
   "outputs": [
    {
     "name": "stdout",
     "output_type": "stream",
     "text": [
      "{'upper': 0.76252911469958629, 'lower': 0.62451378613348041}\n"
     ]
    }
   ],
   "source": [
    "print(spanish_CI)"
   ]
  },
  {
   "cell_type": "code",
   "execution_count": 45,
   "metadata": {},
   "outputs": [
    {
     "name": "stdout",
     "output_type": "stream",
     "text": [
      "Percentage of SNP pairs inside CI\n",
      "51.0\n"
     ]
    }
   ],
   "source": [
    "print('Percentage of SNP pairs inside CI')\n",
    "print(sum((df_temp.spa > spanish_CI['lower']) & (df_temp.spa < spanish_CI['upper']) )/len(df_temp)*100)"
   ]
  },
  {
   "cell_type": "code",
   "execution_count": 46,
   "metadata": {},
   "outputs": [
    {
     "name": "stdout",
     "output_type": "stream",
     "text": [
      "21.0\n",
      "11.0\n",
      "32.0\n"
     ]
    }
   ],
   "source": [
    "res = get_conf_interval_for_diff(df_temp.bri, df_temp.spa, n1=size_dict['bri']*2, n2=size_dict['spa']*2)\n",
    "print(sum(res['lower']>0)/len(df_temp)*100)\n",
    "print(sum(res['upper']<0)/len(df_temp)*100)\n",
    "print(sum(res['lower']>0)/len(df_temp)*100 + sum(res['upper']<0)/len(df_temp)*100)"
   ]
  },
  {
   "cell_type": "code",
   "execution_count": 47,
   "metadata": {},
   "outputs": [],
   "source": [
    "def get_percentage_of_pairs_diff_is_significant(real_pop, ref_pop, initial_r, initial_margin=initial_margin):\n",
    "    df_temp = get_snp_pairs_in_range(initial_r - initial_margin , initial_r + initial_margin, nation=real_pop)\n",
    "    res = get_conf_interval_for_diff(r1=df_temp[real_pop], r2=df_temp[ref_pop], \n",
    "                                     n1=size_dict[real_pop]*2, n2=size_dict[ref_pop]*2)\n",
    "    return(sum(res['lower']>0)/len(df_temp)*100 + sum(res['upper']<0)/len(df_temp)*100)\n",
    "    \n",
    "    "
   ]
  },
  {
   "cell_type": "code",
   "execution_count": 48,
   "metadata": {},
   "outputs": [
    {
     "data": {
      "text/plain": [
       "49.63963963963964"
      ]
     },
     "execution_count": 48,
     "metadata": {},
     "output_type": "execute_result"
    }
   ],
   "source": [
    "get_percentage_of_pairs_diff_is_significant('bri', 'spa', 0.85,0.1)"
   ]
  },
  {
   "cell_type": "code",
   "execution_count": 49,
   "metadata": {},
   "outputs": [
    {
     "name": "stdout",
     "output_type": "stream",
     "text": [
      "{'r2_lower': 0.58438438438438434, 'r2_upper': 0.78978978978978975}\n",
      "68.0\n"
     ]
    }
   ],
   "source": [
    "delta_margin = get_margin_r_for_diff(initial_r, n1=size_dict['bri']*2, n2=size_dict['spa']*2, alpha=0.05)\n",
    "print(delta_margin)\n",
    "print(sum((df_temp.spa > delta_margin['r2_lower']) & (df_temp.spa < delta_margin['r2_upper']) )/len(df_temp.spa)*100)"
   ]
  },
  {
   "cell_type": "code",
   "execution_count": 50,
   "metadata": {},
   "outputs": [
    {
     "data": {
      "image/png": "[encoded data removed]",
      "text/plain": [
       "<matplotlib.figure.Figure at 0x7f5b58c502b0>"
      ]
     },
     "metadata": {},
     "output_type": "display_data"
    }
   ],
   "source": [
    "plt.hist(df_temp.bri - df_temp.eur , bins=20)\n",
    "plt.xlabel('R_british - R_spanish')\n",
    "plt.axvline(x=initial_r - delta_margin['r2_upper'], c = 'k')\n",
    "plt.axvline(x=initial_r - delta_margin['r2_lower'], c = 'k')\n",
    "plt.show()"
   ]
  },
  {
   "cell_type": "markdown",
   "metadata": {},
   "source": [
    "# Delta-R from R\n"
   ]
  },
  {
   "cell_type": "code",
   "execution_count": 51,
   "metadata": {
    "scrolled": true
   },
   "outputs": [
    {
     "data": {
      "image/png": "[encoded data removed]",
      "text/plain": [
       "<matplotlib.figure.Figure at 0x7f5b48852c50>"
      ]
     },
     "metadata": {},
     "output_type": "display_data"
    },
    {
     "data": {
      "text/plain": [
       "([0.59999999999999998,\n",
       "  0.64444444444444438,\n",
       "  0.68888888888888888,\n",
       "  0.73333333333333328,\n",
       "  0.77777777777777779,\n",
       "  0.82222222222222219,\n",
       "  0.8666666666666667,\n",
       "  0.91111111111111109,\n",
       "  0.95555555555555549,\n",
       "  1.0],\n",
       " [0.015171612463174769,\n",
       "  0.013639051523252524,\n",
       "  0.011928313871645523,\n",
       "  0.010309978326566424,\n",
       "  0.0092784908355446824,\n",
       "  0.0078998940642675455,\n",
       "  0.0054741582784425119,\n",
       "  0.0041790788490064425,\n",
       "  0.002459939302670652,\n",
       "  0.00032898199612380925])"
      ]
     },
     "execution_count": 51,
     "metadata": {},
     "output_type": "execute_result"
    }
   ],
   "source": [
    "def get_varr_r_lists(real_pop, ref_pop, initial_r=0.6, number_of_plots=10, plot_hist=False):\n",
    "    r_array = []\n",
    "    var_array = []\n",
    "    for index, initial_r in enumerate(np.linspace(0.6,1,number_of_plots)):\n",
    "        df_temp = get_snp_pairs_in_range(initial_r - initial_margin , initial_r + initial_margin, nation=real_pop)\n",
    "        delta_r = df_temp[real_pop] - df_temp[ref_pop]\n",
    "        r_array.append(initial_r)\n",
    "        var_array.append(delta_r.var())\n",
    "        if plot_hist:    \n",
    "            plt.subplot(number_of_plots, 1, index+1)\n",
    "            plt.hist(delta_r, bins=30,  range=(-0.35, 0.35))\n",
    "    if plot_hist:    \n",
    "        plt.show()\n",
    "    return r_array, var_array\n",
    "\n",
    "get_varr_r_lists(real_pop = 'bri', ref_pop='spa', plot_hist=True)\n",
    "    "
   ]
  },
  {
   "cell_type": "code",
   "execution_count": 52,
   "metadata": {},
   "outputs": [],
   "source": [
    "df = pd.read_hdf('../LD_simul/results/r_0.75_0.85_0.95.h5')"
   ]
  },
  {
   "cell_type": "code",
   "execution_count": 56,
   "metadata": {},
   "outputs": [
    {
     "data": {
      "image/png": "[encoded data removed]",
      "text/plain": [
       "<matplotlib.figure.Figure at 0x7f5b483f64a8>"
      ]
     },
     "metadata": {},
     "output_type": "display_data"
    }
   ],
   "source": [
    "for nation in ['fin', 'spa', 'ceph', 'tus', 'eur']:\n",
    "    r_array, var_array = get_varr_r_lists(real_pop = 'bri', ref_pop=nation)\n",
    "    plt.plot(r_array, var_array, label=nation)\n",
    "    \n",
    "plt.plot( df[df.gen == 300].groupby('r_0')['r'].var(), label = 'simulation' )\n",
    "\n",
    "    \n",
    "plt.xlabel('r')\n",
    "plt.ylabel('variance of delta r')\n",
    "plt.legend()\n",
    "plt.show()    \n",
    "\n"
   ]
  },
  {
   "cell_type": "markdown",
   "metadata": {},
   "source": [
    "##  Cojo info"
   ]
  },
  {
   "cell_type": "code",
   "execution_count": 25,
   "metadata": {},
   "outputs": [
    {
     "name": "stdout",
     "output_type": "stream",
     "text": [
      "[ 0.3  0.4  0.5  0.6  0.7]\n"
     ]
    }
   ],
   "source": [
    "cojo_df = pd.read_csv('first_type_error.tsv', sep = '\\t')\n",
    "cojo_df = cojo_df.round({'delta_r':3})\n",
    "cojo_df.head(2)\n",
    "print(cojo_df.sim_r.unique())"
   ]
  },
  {
   "cell_type": "code",
   "execution_count": 26,
   "metadata": {},
   "outputs": [
    {
     "data": {
      "image/png": "[encoded data removed]",
      "text/plain": [
       "<matplotlib.figure.Figure at 0x7f5b484aa470>"
      ]
     },
     "metadata": {},
     "output_type": "display_data"
    }
   ],
   "source": [
    "plt.hist(cojo_df.sort_values('joint_p').joint_p, bins=30)\n",
    "plt.show()"
   ]
  },
  {
   "cell_type": "code",
   "execution_count": 27,
   "metadata": {
    "scrolled": true
   },
   "outputs": [],
   "source": [
    "def first_type_error_rate(sim_r):\n",
    "    # delta_r = real - reference\n",
    "    # delta_r < real + 1\n",
    "    # delta_r > real - 1 \n",
    "    fixed_sim_r_df = cojo_df[(cojo_df.sim_r == sim_r)]\n",
    "    delta_r_array = cojo_df[(cojo_df.sim_r == sim_r) & \n",
    "                            (cojo_df.delta_r > sim_r - 1) & \n",
    "                            (cojo_df.delta_r < sim_r + 1)].delta_r.unique()\n",
    "    fdr_list = []\n",
    "    delta_r_list = []\n",
    "\n",
    "    for delta_r in delta_r_array:\n",
    "        temp_df = fixed_sim_r_df[(fixed_sim_r_df.delta_r == delta_r)]\n",
    "        fdr = len(temp_df[temp_df.joint_p < 0.05])/len(temp_df)\n",
    "        if len(temp_df) > 100:\n",
    "            fdr_list.append(fdr)\n",
    "            delta_r_list.append(delta_r)\n",
    "            #print(len(temp_df), delta_r)\n",
    "    return( pd.DataFrame({'delta_r': delta_r_list, 'fdr': fdr_list}))"
   ]
  },
  {
   "cell_type": "code",
   "execution_count": 28,
   "metadata": {},
   "outputs": [],
   "source": [
    "def get_crical_values(sim_r):\n",
    "    fdr_dynamics = first_type_error_rate(sim_r)\n",
    "    min_r = sim_r - fdr_dynamics[fdr_dynamics.fdr < 0.10].delta_r.max()\n",
    "    max_r = sim_r - fdr_dynamics[fdr_dynamics.fdr < 0.10].delta_r.min()\n",
    "    return min_r, max_r"
   ]
  },
  {
   "cell_type": "code",
   "execution_count": 29,
   "metadata": {
    "scrolled": true
   },
   "outputs": [
    {
     "name": "stdout",
     "output_type": "stream",
     "text": [
      "0.3 (-0.36700000000000005, 0.60299999999999998) -0.303 0.667\n",
      "0.4 (-0.22599999999999998, 0.622) -0.222 0.626\n",
      "0.5 (-0.247, 0.68199999999999994) -0.182 0.747\n",
      "0.6 (-0.22799999999999998, 0.74099999999999999) -0.141 0.828\n",
      "0.7 (-0.249, 0.80099999999999993) -0.101 0.949\n"
     ]
    }
   ],
   "source": [
    "for i in cojo_df.sim_r.unique():\n",
    "    lower, upper = get_crical_values(i)\n",
    "    print(i, get_crical_values(i), i - upper, i - lower)"
   ]
  },
  {
   "cell_type": "code",
   "execution_count": 30,
   "metadata": {},
   "outputs": [
    {
     "name": "stdout",
     "output_type": "stream",
     "text": [
      "[  0.  10.  20.  30.  40.  50.  60.  70.  80.  90.]\n"
     ]
    },
    {
     "data": {
      "image/png": "[encoded data removed]",
      "text/plain": [
       "<matplotlib.figure.Figure at 0x7f5b484aa518>"
      ]
     },
     "metadata": {},
     "output_type": "display_data"
    }
   ],
   "source": [
    "lower, upper = get_crical_values(0.7)\n",
    "fig, ax = plt.subplots(figsize=(8, 5))\n",
    "for i in [0.3, 0.7]:\n",
    "    fdr_dynamics = first_type_error_rate(i)\n",
    "    #print(fdr_dynamics[(fdr_dynamics.delta_r <= 0.0) & (fdr_dynamics.delta_r >= -0.5)])\n",
    "    ax.scatter(fdr_dynamics.delta_r, fdr_dynamics.fdr*100, label = i)\n",
    "ax.xaxis.label.set_fontsize(15)\n",
    "ax.yaxis.label.set_fontsize(15)\n",
    "\n",
    "#ax.legend(title = 'Real R',loc='upper left', fontsize = 15)\n",
    "legend = ax.legend(title = 'Real R',loc='upper left', fontsize = 13)\n",
    "plt.setp(legend.get_title(),fontsize='15')\n",
    "ax.set_xlabel('$R_{real}$ - $R_{reference}$')\n",
    "ax.set_ylabel('Type I error')\n",
    "y_max = 0.85\n",
    "ax.set_ylim(0, y_max*100)\n",
    "print(ax.get_yticks())\n",
    "ax.set_yticklabels([str(int(i))+'%' for i in ax.get_yticks()])\n",
    "\n",
    "ax.axhline(y=10, c = 'k', linestyle='--')\n",
    "ax.axvline(x=0.7 - lower, ymin=0.0, ymax = 0.1/y_max, color='k', linestyle='--')\n",
    "ax.axvline(x=0.7 -upper, ymin=0.0, ymax = 0.1/y_max, color='k', linestyle='--')\n",
    "\n",
    "plt.savefig('FDR.png', dpi=300)\n",
    "plt.show()\n",
    "\n",
    "plt.close()"
   ]
  },
  {
   "cell_type": "code",
   "execution_count": 79,
   "metadata": {
    "scrolled": true
   },
   "outputs": [
    {
     "name": "stdout",
     "output_type": "stream",
     "text": [
      "[  0.  10.  20.  30.  40.  50.  60.  70.  80.  90.]\n"
     ]
    },
    {
     "data": {
      "image/png": "[encoded data removed]",
      "text/plain": [
       "<matplotlib.figure.Figure at 0x7f5b58ce1cc0>"
      ]
     },
     "metadata": {},
     "output_type": "display_data"
    }
   ],
   "source": [
    "plt.close()\n",
    "\n",
    "lower, upper = get_crical_values(0.7)\n",
    "fig, (ax, ax2) = plt.subplots(nrows=2, sharex=True, figsize=(7, 9))\n",
    "fig.tight_layout()\n",
    "fig.subplots_adjust(bottom=0.2)\n",
    "fig.subplots_adjust(left = 0.1)\n",
    "\n",
    "for i in [0.7]:\n",
    "    fdr_dynamics = first_type_error_rate(i)\n",
    "    ax.scatter(fdr_dynamics.delta_r, fdr_dynamics.fdr*100, label = i, color='#ff7f0e')\n",
    "ax2.xaxis.label.set_fontsize(15)\n",
    "ax.yaxis.label.set_fontsize(15)\n",
    "ax2.yaxis.label.set_fontsize(15)\n",
    "\n",
    "\n",
    "#ax.legend(title = 'Real R',loc='upper left', fontsize = 15)\n",
    "legend = ax.legend(title = 'Real R',loc='upper left', fontsize = 12)\n",
    "plt.setp(legend.get_title(),fontsize='12')\n",
    "ax2.set_xlabel('$R_{real}$ - $R_{reference}$')\n",
    "ax.set_ylabel('Type I error')\n",
    "y_max = 0.85\n",
    "ax.set_ylim(0, y_max*100)\n",
    "print(ax.get_yticks())\n",
    "ax.set_yticklabels([str(int(i))+'%' for i in ax.get_yticks()])\n",
    "#ax.set_xlim(-2, 2)\n",
    "ax.axhline(y=10, c = 'k', linestyle='--')\n",
    "ax.axvline(x=0.7 - lower, ymin=0.0, ymax = 0.1/y_max, color='k', linestyle='--')\n",
    "ax.axvline(x=0.7 -upper, ymin=0.0, ymax = 0.1/y_max, color='k', linestyle='--')\n",
    "df_temp = get_snp_pairs_in_range(lower_threshold=0.69,\n",
    "                                 upper_threshold=0.71, \n",
    "                                 nation='bri')\n",
    "for_hist = df_temp.bri - df_temp.fin\n",
    "ax2.hist( for_hist[for_hist> 0.7 -upper], bins=20, color='#ff7f0e')\n",
    "ax2.hist( for_hist[for_hist< 0.7 -upper], bins=5, color='b')\n",
    "#ax2.legend( \"$R_{real}$ - British, $R_{reference} - Finnish$\",loc='upper left', fontsize = 12)\n",
    "ax2.text(0.65, 0.95, r\"$R_{real}$ $\\rightarrow$ British\" + '\\n' + r\"$R_{reference}$ $\\rightarrow$ Finnish\", transform=ax2.transAxes, fontsize=14,\n",
    "        verticalalignment='top')\n",
    "#ax2.axhline(y=10, c = 'k', linestyle='--')\n",
    "ax2.axvline(x=0.7 - lower, color='k', linestyle='--')\n",
    "ax2.axvline(x=0.7 -upper, color='k', linestyle='--')\n",
    "ax2.set_ylabel('Number of SNP pairs')\n",
    "plt.savefig('FDR.png', dpi=300)\n",
    "plt.show()\n",
    "plt.close()"
   ]
  },
  {
   "cell_type": "code",
   "execution_count": null,
   "metadata": {},
   "outputs": [],
   "source": [
    "def get_var_attributed_pop_diff(real_pop, ref_pop, initial_r, initial_margin=0.01,\n",
    "                                                            sample_size_coefficient = 2):\n",
    "    '''sample_size_coefficient - \n",
    "    How many chromosomes are used in LD calculations compared to initial number of individuals'''\n",
    "    \n",
    "    df_temp = get_snp_pairs_in_range(lower_threshold=initial_r-initial_margin,\n",
    "                                 upper_threshold=initial_r+initial_margin, \n",
    "                                 nation=real_pop)\n",
    "    \n",
    "    \n",
    "    # vector of r values for reference population is transformed into vercotr of z-scores\n",
    "    z = np.arctanh(df_temp[ref_pop])\n",
    "\n",
    "    # total variance of the sample from reference population\n",
    "    total_variance = z.var()\n",
    "    #print(total_variance)\n",
    "    # How many chromosomes are used in LD calculations compared to initial number of individuals\n",
    "    # variance explained from finite size of real (GWAS) population\n",
    "    var_by_real_pop_sample = 1/(size_dict[real_pop]*sample_size_coefficient - 3)\n",
    "    # variance explained from fineze size of reference popualtion \n",
    "    var_by_ref_pop_sample = 1/(size_dict[ref_pop]*sample_size_coefficient - 3)\n",
    "    # variance attributed to difference between populations\n",
    "    var_by_pop_dif = total_variance - var_by_real_pop_sample - var_by_ref_pop_sample\n",
    "    \n",
    "    return var_by_pop_dif\n",
    "\n",
    "\n",
    "def get_perc_of_pairs_above_cojo_threshold_expl_by_pop_diff(real_pop, ref_pop, initial_r, initial_margin=0.01,\n",
    "                                                            sample_size_coefficient = 2):\n",
    "    # thresholds from cojo joint test simulations\n",
    "    lower, upper = get_crical_values(initial_r)\n",
    "    # upper threshold is transformed to z-threshold\n",
    "    df_temp = get_snp_pairs_in_range(lower_threshold=initial_r-initial_margin,\n",
    "                                 upper_threshold=initial_r+initial_margin, \n",
    "                                 nation=real_pop)\n",
    "    percentage_of_bad_pairs = len(df_temp[df_temp[ref_pop] > upper])/len(df_temp)\n",
    "    return percentage_of_bad_pairs*100"
   ]
  },
  {
   "cell_type": "code",
   "execution_count": 81,
   "metadata": {},
   "outputs": [],
   "source": [
    "def get_var_attributed_pop_diff(real_pop, ref_pop, initial_r, initial_margin=0.01,\n",
    "                                                            sample_size_coefficient = 2):\n",
    "    '''sample_size_coefficient - \n",
    "    How many chromosomes are used in LD calculations compared to initial number of individuals'''\n",
    "    \n",
    "    df_temp = get_snp_pairs_in_range(lower_threshold=initial_r-initial_margin,\n",
    "                                 upper_threshold=initial_r+initial_margin, \n",
    "                                 nation=real_pop)\n",
    "    \n",
    "    \n",
    "    # vector of r values for reference population is transformed into vercotr of z-scores\n",
    "    z = np.arctanh(df_temp[ref_pop])\n",
    "\n",
    "    # total variance of the sample from reference population\n",
    "    total_variance = z.var()\n",
    "    #print(total_variance)\n",
    "    # How many chromosomes are used in LD calculations compared to initial number of individuals\n",
    "    # variance explained from finite size of real (GWAS) population\n",
    "    var_by_real_pop_sample = 1/(size_dict[real_pop]*sample_size_coefficient - 3)\n",
    "    # variance explained from fineze size of reference popualtion \n",
    "    var_by_ref_pop_sample = 1/(size_dict[ref_pop]*sample_size_coefficient - 3)\n",
    "    # variance attributed to difference between populations\n",
    "    var_by_pop_dif = total_variance - var_by_real_pop_sample - var_by_ref_pop_sample\n",
    "    \n",
    "    return var_by_pop_dif\n",
    "\n",
    "\n",
    "def get_perc_of_pairs_above_cojo_threshold_expl_by_pop_diff(real_pop, ref_pop, initial_r, initial_margin=0.01,\n",
    "                                                            sample_size_coefficient = 2):\n",
    "    # thresholds from cojo joint test simulations\n",
    "    lower, upper = get_crical_values(initial_r)\n",
    "    # upper threshold is transformed to z-threshold\n",
    "    z_limit = np.arctanh(upper)\n",
    "    var_by_pop_dif = get_var_attributed_pop_diff(real_pop, ref_pop, initial_r, initial_margin=0.01,\n",
    "                                                            sample_size_coefficient = 2)\n",
    "    SE = np.sqrt(var_by_pop_dif)\n",
    "    z_value = (z_limit - np.arctanh(initial_r))/SE\n",
    "    p_value = norm.cdf(-z_value)\n",
    "    return p_value*100"
   ]
  },
  {
   "cell_type": "code",
   "execution_count": 83,
   "metadata": {},
   "outputs": [
    {
     "name": "stderr",
     "output_type": "stream",
     "text": [
      "/home/sega/.local/lib/python3.5/site-packages/ipykernel_launcher.py:36: RuntimeWarning: invalid value encountered in sqrt\n"
     ]
    },
    {
     "data": {
      "text/html": [
       "<div>\n",
       "<style>\n",
       "    .dataframe thead tr:only-child th {\n",
       "        text-align: right;\n",
       "    }\n",
       "\n",
       "    .dataframe thead th {\n",
       "        text-align: left;\n",
       "    }\n",
       "\n",
       "    .dataframe tbody tr th {\n",
       "        vertical-align: top;\n",
       "    }\n",
       "</style>\n",
       "<table border=\"1\" class=\"dataframe\">\n",
       "  <thead>\n",
       "    <tr style=\"text-align: right;\">\n",
       "      <th></th>\n",
       "      <th>r</th>\n",
       "      <th>fin</th>\n",
       "      <th>spa</th>\n",
       "      <th>ceph</th>\n",
       "      <th>tus</th>\n",
       "      <th>eur</th>\n",
       "    </tr>\n",
       "  </thead>\n",
       "  <tbody>\n",
       "    <tr>\n",
       "      <th>0</th>\n",
       "      <td>0.3</td>\n",
       "      <td>0.005826</td>\n",
       "      <td>3.574344e-07</td>\n",
       "      <td>1.043563e-07</td>\n",
       "      <td>7.259719e-08</td>\n",
       "      <td>NaN</td>\n",
       "    </tr>\n",
       "    <tr>\n",
       "      <th>1</th>\n",
       "      <td>0.4</td>\n",
       "      <td>0.858659</td>\n",
       "      <td>1.140474e-01</td>\n",
       "      <td>5.623340e-02</td>\n",
       "      <td>1.477546e-01</td>\n",
       "      <td>3.788437e-11</td>\n",
       "    </tr>\n",
       "    <tr>\n",
       "      <th>2</th>\n",
       "      <td>0.5</td>\n",
       "      <td>3.871047</td>\n",
       "      <td>1.320927e+00</td>\n",
       "      <td>1.010730e+00</td>\n",
       "      <td>1.414542e+00</td>\n",
       "      <td>1.972028e-03</td>\n",
       "    </tr>\n",
       "    <tr>\n",
       "      <th>3</th>\n",
       "      <td>0.6</td>\n",
       "      <td>9.403140</td>\n",
       "      <td>4.683475e+00</td>\n",
       "      <td>2.999468e+00</td>\n",
       "      <td>4.894737e+00</td>\n",
       "      <td>1.463173e-01</td>\n",
       "    </tr>\n",
       "    <tr>\n",
       "      <th>4</th>\n",
       "      <td>0.7</td>\n",
       "      <td>15.448774</td>\n",
       "      <td>9.043803e+00</td>\n",
       "      <td>6.722123e+00</td>\n",
       "      <td>9.544780e+00</td>\n",
       "      <td>1.071511e+00</td>\n",
       "    </tr>\n",
       "  </tbody>\n",
       "</table>\n",
       "</div>"
      ],
      "text/plain": [
       "     r        fin           spa          ceph           tus           eur\n",
       "0  0.3   0.005826  3.574344e-07  1.043563e-07  7.259719e-08           NaN\n",
       "1  0.4   0.858659  1.140474e-01  5.623340e-02  1.477546e-01  3.788437e-11\n",
       "2  0.5   3.871047  1.320927e+00  1.010730e+00  1.414542e+00  1.972028e-03\n",
       "3  0.6   9.403140  4.683475e+00  2.999468e+00  4.894737e+00  1.463173e-01\n",
       "4  0.7  15.448774  9.043803e+00  6.722123e+00  9.544780e+00  1.071511e+00"
      ]
     },
     "execution_count": 83,
     "metadata": {},
     "output_type": "execute_result"
    }
   ],
   "source": [
    "res = pd.DataFrame({'r': cojo_df.sim_r.unique()})\n",
    "for nation in ['fin', 'spa', 'ceph', 'tus','eur']:\n",
    "    nation_col = []\n",
    "    for r in cojo_df.sim_r.unique():\n",
    "        nation_col.append(get_perc_of_pairs_above_cojo_threshold_expl_by_pop_diff(\n",
    "            real_pop='bri', ref_pop=nation, initial_r=r))\n",
    "    res[nation] = nation_col\n",
    "res"
   ]
  },
  {
   "cell_type": "code",
   "execution_count": 84,
   "metadata": {},
   "outputs": [
    {
     "data": {
      "image/png": "[encoded data removed]",
      "text/plain": [
       "<matplotlib.figure.Figure at 0x7f5b488c0908>"
      ]
     },
     "metadata": {},
     "output_type": "display_data"
    }
   ],
   "source": [
    "import seaborn as sns\n",
    "data = pd.melt(res,id_vars=['r'], value_vars=['fin', 'spa', 'ceph', 'tus','eur'], value_name='FDR', var_name='ref nation')\n",
    "plt.figure(figsize=(10,6))\n",
    "ax = sns.barplot(x='r', y='FDR', hue='ref nation', data = data)\n",
    "ax.set(xlabel='R in British (real) population', ylabel='Percentage of SNP pairs beyond the threshold')\n",
    "for item in ([ax.title, ax.xaxis.label, ax.yaxis.label] +\n",
    "             ax.get_xticklabels() + ax.get_yticklabels()):\n",
    "    item.set_fontsize(15)\n",
    "plt.legend(fontsize = 15)\n",
    "plt.savefig('test.png', dpi=300)\n",
    "plt.show()\n"
   ]
  },
  {
   "cell_type": "code",
   "execution_count": 98,
   "metadata": {
    "scrolled": true
   },
   "outputs": [
    {
     "name": "stdout",
     "output_type": "stream",
     "text": [
      "0.673727210312\n",
      "0.146540027137\n",
      "0.146540027137\n",
      "0.176752206646\n"
     ]
    },
    {
     "data": {
      "image/png": "[encoded data removed]",
      "text/plain": [
       "<matplotlib.figure.Figure at 0x7f5b488dd400>"
      ]
     },
     "metadata": {},
     "output_type": "display_data"
    }
   ],
   "source": [
    "initial_r = 0.7\n",
    "initial_margin = 0.01\n",
    "df_temp = get_snp_pairs_in_range(lower_threshold=initial_r-initial_margin,\n",
    "                                 upper_threshold=initial_r+initial_margin, \n",
    "                                 nation='bri')\n",
    "lower, upper = get_crical_values(initial_r)\n",
    "\n",
    "r_disrt = df_temp.fin\n",
    "z_distr = np.arctanh(r_disrt)\n",
    "z_limit = np.arctanh(upper)\n",
    "\n",
    "print(np.mean(r_disrt))\n",
    "print(sum(r_disrt>upper)/len(r_disrt))\n",
    "print(sum(z_distr>z_limit)/len(z_distr))\n",
    "total_variance = z_distr.var()\n",
    "var_by_pop_dif = total_variance - 1/200*2\n",
    "SE = np.sqrt(total_variance)\n",
    "z_value = (z_limit - np.arctanh(initial_r))/SE\n",
    "p_value = norm.cdf(-z_value)\n",
    "print(p_value)\n",
    "\n",
    "plt.subplot(2, 1, 1)\n",
    "plt.hist(z_distr, bins=20) \n",
    "plt.xlabel('z')\n",
    "plt.axvline(x=z_limit, c = 'k')\n",
    "plt.axvline(x=np.arctanh(initial_r), c = 'g')\n",
    "\n",
    "plt.subplot(3, 1, 3)\n",
    "plt.hist(r_disrt)\n",
    "plt.axvline(x=upper, c = 'k')\n",
    "plt.xlabel('r')\n",
    "plt.show()\n"
   ]
  },
  {
   "cell_type": "code",
   "execution_count": 93,
   "metadata": {},
   "outputs": [
    {
     "data": {
      "text/plain": [
       "0.86730052769405308"
      ]
     },
     "execution_count": 93,
     "metadata": {},
     "output_type": "execute_result"
    }
   ],
   "source": [
    "np.arctanh(initial_r)"
   ]
  },
  {
   "cell_type": "markdown",
   "metadata": {},
   "source": [
    "# Stuff"
   ]
  },
  {
   "cell_type": "code",
   "execution_count": null,
   "metadata": {},
   "outputs": [],
   "source": [
    "df_eur['dist'] = abs(df_eur['BP_A'] - df_eur['BP_B'])"
   ]
  },
  {
   "cell_type": "code",
   "execution_count": null,
   "metadata": {},
   "outputs": [],
   "source": [
    "plt.scatter(df_eur['dist'], abs(df_eur['R']), alpha=0.01, s=0.7)\n",
    "plt.xlabel(\"distance from core SNP\")\n",
    "plt.ylabel(\"abs(r)\")\n",
    "plt.show()"
   ]
  },
  {
   "cell_type": "code",
   "execution_count": null,
   "metadata": {},
   "outputs": [],
   "source": [
    "df_08 = get_snp_pairs_in_range(lower_threshold=0.79, upper_threshold=0.81, nation='average')\n",
    "abs(df_08[['ceph', 'spa', 'average', 'tus', 'fin', 'bri']]).boxplot()\n",
    "plt.show()\n",
    "print(abs(df_08[['ceph', 'spa', 'average', 'tus', 'fin', 'bri']]).std())"
   ]
  },
  {
   "cell_type": "code",
   "execution_count": null,
   "metadata": {},
   "outputs": [],
   "source": [
    "df_07 = get_snp_pairs_in_range(lower_threshold=0.69, upper_threshold=0.71, nation='average')\n",
    "abs(df_07[['ceph', 'spa', 'average', 'tus', 'fin', 'bri']]).boxplot()\n",
    "plt.show()\n",
    "print(abs(df_07[['ceph', 'spa', 'average', 'tus', 'fin', 'bri']]).std())"
   ]
  },
  {
   "cell_type": "markdown",
   "metadata": {},
   "source": [
    "# Fisher Z-transformation"
   ]
  },
  {
   "cell_type": "code",
   "execution_count": null,
   "metadata": {},
   "outputs": [],
   "source": [
    "get_conf_interval(0.7, N=91*2)"
   ]
  },
  {
   "cell_type": "code",
   "execution_count": null,
   "metadata": {},
   "outputs": [],
   "source": [
    "get_conf_interval(0.7, N=107*2)"
   ]
  },
  {
   "cell_type": "code",
   "execution_count": null,
   "metadata": {},
   "outputs": [],
   "source": [
    "ci = get_conf_interval(0.8, N=100)\n",
    "print(ci)\n",
    "for name in df_dict.keys():\n",
    "    print( name, len(df_08[(abs(df_08[name]) > ci[\"lower\"]) & (abs(df_08[name]) < ci[\"upper\"])])/len(df_08))"
   ]
  }
 ],
 "metadata": {
  "kernelspec": {
   "display_name": "Python 3",
   "language": "python",
   "name": "python3"
  },
  "language_info": {
   "codemirror_mode": {
    "name": "ipython",
    "version": 3
   },
   "file_extension": ".py",
   "mimetype": "text/x-python",
   "name": "python",
   "nbconvert_exporter": "python",
   "pygments_lexer": "ipython3",
   "version": "3.5.2"
  }
 },
 "nbformat": 4,
 "nbformat_minor": 2
}
