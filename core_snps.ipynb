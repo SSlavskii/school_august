{
 "cells": [
  {
   "cell_type": "code",
   "execution_count": 31,
   "metadata": {},
   "outputs": [],
   "source": [
    "import pandas as pd\n",
    "from tqdm import tqdm\n",
    "import numpy as np\n",
    "import matplotlib.pyplot as plt\n",
    "REF_bp = \"ref_bp\"\n",
    "REF_chr = \"ref_chr\""
   ]
  },
  {
   "cell_type": "code",
   "execution_count": 10,
   "metadata": {},
   "outputs": [],
   "source": [
    "df = pd.read_table('good_snps_with_position.csv', sep=',')\n",
    "df.sort_values(by=[REF_chr, REF_bp], inplace=True)"
   ]
  },
  {
   "cell_type": "code",
   "execution_count": 16,
   "metadata": {
    "scrolled": true
   },
   "outputs": [
    {
     "data": {
      "text/html": [
       "<div>\n",
       "<style>\n",
       "    .dataframe thead tr:only-child th {\n",
       "        text-align: right;\n",
       "    }\n",
       "\n",
       "    .dataframe thead th {\n",
       "        text-align: left;\n",
       "    }\n",
       "\n",
       "    .dataframe tbody tr th {\n",
       "        vertical-align: top;\n",
       "    }\n",
       "</style>\n",
       "<table border=\"1\" class=\"dataframe\">\n",
       "  <thead>\n",
       "    <tr style=\"text-align: right;\">\n",
       "      <th></th>\n",
       "      <th>ref_rs_id</th>\n",
       "      <th>ref_chr</th>\n",
       "      <th>ref_bp</th>\n",
       "      <th>ref_af</th>\n",
       "      <th>ref_allele</th>\n",
       "      <th>ref_other_allele</th>\n",
       "      <th>ref_snp_num</th>\n",
       "    </tr>\n",
       "  </thead>\n",
       "  <tbody>\n",
       "    <tr>\n",
       "      <th>1142693</th>\n",
       "      <td>rs4814683</td>\n",
       "      <td>20</td>\n",
       "      <td>61795</td>\n",
       "      <td>0.6680</td>\n",
       "      <td>G</td>\n",
       "      <td>T</td>\n",
       "      <td>4814683</td>\n",
       "    </tr>\n",
       "    <tr>\n",
       "      <th>1142694</th>\n",
       "      <td>rs6139074</td>\n",
       "      <td>20</td>\n",
       "      <td>63244</td>\n",
       "      <td>0.8012</td>\n",
       "      <td>A</td>\n",
       "      <td>C</td>\n",
       "      <td>6139074</td>\n",
       "    </tr>\n",
       "    <tr>\n",
       "      <th>1142695</th>\n",
       "      <td>rs1418258</td>\n",
       "      <td>20</td>\n",
       "      <td>63799</td>\n",
       "      <td>0.6680</td>\n",
       "      <td>C</td>\n",
       "      <td>T</td>\n",
       "      <td>1418258</td>\n",
       "    </tr>\n",
       "    <tr>\n",
       "      <th>1142696</th>\n",
       "      <td>rs6086616</td>\n",
       "      <td>20</td>\n",
       "      <td>68749</td>\n",
       "      <td>0.6849</td>\n",
       "      <td>C</td>\n",
       "      <td>T</td>\n",
       "      <td>6086616</td>\n",
       "    </tr>\n",
       "    <tr>\n",
       "      <th>1142697</th>\n",
       "      <td>rs6039403</td>\n",
       "      <td>20</td>\n",
       "      <td>69094</td>\n",
       "      <td>0.4026</td>\n",
       "      <td>A</td>\n",
       "      <td>G</td>\n",
       "      <td>6039403</td>\n",
       "    </tr>\n",
       "  </tbody>\n",
       "</table>\n",
       "</div>"
      ],
      "text/plain": [
       "         ref_rs_id  ref_chr  ref_bp  ref_af ref_allele ref_other_allele  \\\n",
       "1142693  rs4814683       20   61795  0.6680          G                T   \n",
       "1142694  rs6139074       20   63244  0.8012          A                C   \n",
       "1142695  rs1418258       20   63799  0.6680          C                T   \n",
       "1142696  rs6086616       20   68749  0.6849          C                T   \n",
       "1142697  rs6039403       20   69094  0.4026          A                G   \n",
       "\n",
       "         ref_snp_num  \n",
       "1142693      4814683  \n",
       "1142694      6139074  \n",
       "1142695      1418258  \n",
       "1142696      6086616  \n",
       "1142697      6039403  "
      ]
     },
     "execution_count": 16,
     "metadata": {},
     "output_type": "execute_result"
    }
   ],
   "source": [
    "df[df[REF_chr]==20].head()"
   ]
  },
  {
   "cell_type": "code",
   "execution_count": 4,
   "metadata": {},
   "outputs": [],
   "source": [
    "# extract core SNPs\n",
    "def extract_core_snps(df, distance_core_SNPs = 10**6):\n",
    "    for chrom in tqdm(range(1,23)):\n",
    "        temp = df[df[REF_chr]==chrom]\n",
    "        start = min(temp[REF_bp])\n",
    "        ind_to_drop = []\n",
    "        for index, row in temp.iterrows():\n",
    "            if row[REF_bp] < start + distance_core_SNPs:\n",
    "                ind_to_drop.append(index)\n",
    "            else:\n",
    "                start = row[REF_bp]\n",
    "        df.drop(ind_to_drop, inplace = True)\n",
    "    return(df)"
   ]
  },
  {
   "cell_type": "code",
   "execution_count": 5,
   "metadata": {},
   "outputs": [
    {
     "name": "stderr",
     "output_type": "stream",
     "text": [
      "100%|██████████| 22/22 [02:18<00:00,  6.31s/it]\n"
     ]
    }
   ],
   "source": [
    "filtered_snps = extract_core_snps(df)"
   ]
  },
  {
   "cell_type": "code",
   "execution_count": 6,
   "metadata": {},
   "outputs": [
    {
     "data": {
      "text/plain": [
       "(2659, 7)"
      ]
     },
     "execution_count": 6,
     "metadata": {},
     "output_type": "execute_result"
    }
   ],
   "source": [
    "filtered_snps.shape"
   ]
  },
  {
   "cell_type": "code",
   "execution_count": 38,
   "metadata": {},
   "outputs": [
    {
     "name": "stdout",
     "output_type": "stream",
     "text": [
      "23412861\n"
     ]
    },
    {
     "data": {
      "image/png": "[encoded data removed]",
      "text/plain": [
       "<matplotlib.figure.Figure at 0x7f782181d4e0>"
      ]
     },
     "metadata": {},
     "output_type": "display_data"
    }
   ],
   "source": [
    "l = list(filtered_snps[filtered_snps[REF_chr]==3][REF_bp])\n",
    "res = []\n",
    "for chrom in range(1,23):\n",
    "    l = list(filtered_snps[filtered_snps[REF_chr]==chrom][REF_bp])\n",
    "    for index, i in enumerate(l):\n",
    "        if index == 0:\n",
    "            pass\n",
    "        else:\n",
    "            res.append(i-l[index-1])\n",
    "\n",
    "print(max(res))\n",
    "plt.hist(res)\n",
    "plt.show()"
   ]
  },
  {
   "cell_type": "code",
   "execution_count": 39,
   "metadata": {
    "scrolled": true
   },
   "outputs": [
    {
     "data": {
      "text/html": [
       "<div>\n",
       "<style>\n",
       "    .dataframe thead tr:only-child th {\n",
       "        text-align: right;\n",
       "    }\n",
       "\n",
       "    .dataframe thead th {\n",
       "        text-align: left;\n",
       "    }\n",
       "\n",
       "    .dataframe tbody tr th {\n",
       "        vertical-align: top;\n",
       "    }\n",
       "</style>\n",
       "<table border=\"1\" class=\"dataframe\">\n",
       "  <thead>\n",
       "    <tr style=\"text-align: right;\">\n",
       "      <th></th>\n",
       "      <th>ref_rs_id</th>\n",
       "      <th>ref_chr</th>\n",
       "      <th>ref_bp</th>\n",
       "      <th>ref_af</th>\n",
       "      <th>ref_allele</th>\n",
       "      <th>ref_other_allele</th>\n",
       "      <th>ref_snp_num</th>\n",
       "    </tr>\n",
       "  </thead>\n",
       "  <tbody>\n",
       "    <tr>\n",
       "      <th>270</th>\n",
       "      <td>rs4648726</td>\n",
       "      <td>1</td>\n",
       "      <td>1752955</td>\n",
       "      <td>0.06759</td>\n",
       "      <td>C</td>\n",
       "      <td>T</td>\n",
       "      <td>4648726</td>\n",
       "    </tr>\n",
       "    <tr>\n",
       "      <th>643</th>\n",
       "      <td>rs6680471</td>\n",
       "      <td>1</td>\n",
       "      <td>2754512</td>\n",
       "      <td>0.53180</td>\n",
       "      <td>C</td>\n",
       "      <td>T</td>\n",
       "      <td>6680471</td>\n",
       "    </tr>\n",
       "    <tr>\n",
       "      <th>1134</th>\n",
       "      <td>rs1891941</td>\n",
       "      <td>1</td>\n",
       "      <td>3755675</td>\n",
       "      <td>0.94433</td>\n",
       "      <td>C</td>\n",
       "      <td>T</td>\n",
       "      <td>1891941</td>\n",
       "    </tr>\n",
       "    <tr>\n",
       "      <th>1783</th>\n",
       "      <td>rs7518469</td>\n",
       "      <td>1</td>\n",
       "      <td>4756276</td>\n",
       "      <td>0.94036</td>\n",
       "      <td>G</td>\n",
       "      <td>T</td>\n",
       "      <td>7518469</td>\n",
       "    </tr>\n",
       "    <tr>\n",
       "      <th>2489</th>\n",
       "      <td>rs7521197</td>\n",
       "      <td>1</td>\n",
       "      <td>5758772</td>\n",
       "      <td>0.07654</td>\n",
       "      <td>C</td>\n",
       "      <td>T</td>\n",
       "      <td>7521197</td>\n",
       "    </tr>\n",
       "  </tbody>\n",
       "</table>\n",
       "</div>"
      ],
      "text/plain": [
       "      ref_rs_id  ref_chr   ref_bp   ref_af ref_allele ref_other_allele  \\\n",
       "270   rs4648726        1  1752955  0.06759          C                T   \n",
       "643   rs6680471        1  2754512  0.53180          C                T   \n",
       "1134  rs1891941        1  3755675  0.94433          C                T   \n",
       "1783  rs7518469        1  4756276  0.94036          G                T   \n",
       "2489  rs7521197        1  5758772  0.07654          C                T   \n",
       "\n",
       "      ref_snp_num  \n",
       "270       4648726  \n",
       "643       6680471  \n",
       "1134      1891941  \n",
       "1783      7518469  \n",
       "2489      7521197  "
      ]
     },
     "execution_count": 39,
     "metadata": {},
     "output_type": "execute_result"
    }
   ],
   "source": [
    "filtered_snps[filtered_snps[REF_chr]==1].head()"
   ]
  },
  {
   "cell_type": "code",
   "execution_count": 8,
   "metadata": {},
   "outputs": [],
   "source": [
    "filtered_snps.to_csv(\"core_snps.csv\", index=False, sep='\\t')"
   ]
  }
 ],
 "metadata": {
  "kernelspec": {
   "display_name": "Python 3",
   "language": "python",
   "name": "python3"
  },
  "language_info": {
   "codemirror_mode": {
    "name": "ipython",
    "version": 3
   },
   "file_extension": ".py",
   "mimetype": "text/x-python",
   "name": "python",
   "nbconvert_exporter": "python",
   "pygments_lexer": "ipython3",
   "version": "3.5.2"
  }
 },
 "nbformat": 4,
 "nbformat_minor": 2
}
