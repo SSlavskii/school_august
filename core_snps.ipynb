{
 "cells": [
  {
   "cell_type": "code",
   "execution_count": 1,
   "metadata": {},
   "outputs": [],
   "source": [
    "import pandas as pd\n",
    "from tqdm import tqdm\n",
    "REF_bp = \"ref_bp\"\n",
    "REF_chr = \"ref_chr\""
   ]
  },
  {
   "cell_type": "code",
   "execution_count": 10,
   "metadata": {},
   "outputs": [],
   "source": [
    "df = pd.read_table('good_snps_with_position.csv', sep=',')\n",
    "df.sort_values(by=[REF_chr, REF_bp], inplace=True)"
   ]
  },
  {
   "cell_type": "code",
   "execution_count": 12,
   "metadata": {
    "scrolled": true
   },
   "outputs": [
    {
     "data": {
      "text/html": [
       "<div>\n",
       "<style>\n",
       "    .dataframe thead tr:only-child th {\n",
       "        text-align: right;\n",
       "    }\n",
       "\n",
       "    .dataframe thead th {\n",
       "        text-align: left;\n",
       "    }\n",
       "\n",
       "    .dataframe tbody tr th {\n",
       "        vertical-align: top;\n",
       "    }\n",
       "</style>\n",
       "<table border=\"1\" class=\"dataframe\">\n",
       "  <thead>\n",
       "    <tr style=\"text-align: right;\">\n",
       "      <th></th>\n",
       "      <th>ref_rs_id</th>\n",
       "      <th>ref_chr</th>\n",
       "      <th>ref_bp</th>\n",
       "      <th>ref_af</th>\n",
       "      <th>ref_allele</th>\n",
       "      <th>ref_other_allele</th>\n",
       "      <th>ref_snp_num</th>\n",
       "    </tr>\n",
       "  </thead>\n",
       "  <tbody>\n",
       "    <tr>\n",
       "      <th>0</th>\n",
       "      <td>rs3094315</td>\n",
       "      <td>1</td>\n",
       "      <td>752566</td>\n",
       "      <td>0.8400</td>\n",
       "      <td>A</td>\n",
       "      <td>G</td>\n",
       "      <td>3094315</td>\n",
       "    </tr>\n",
       "    <tr>\n",
       "      <th>1</th>\n",
       "      <td>rs3131972</td>\n",
       "      <td>1</td>\n",
       "      <td>752721</td>\n",
       "      <td>0.1610</td>\n",
       "      <td>A</td>\n",
       "      <td>G</td>\n",
       "      <td>3131972</td>\n",
       "    </tr>\n",
       "    <tr>\n",
       "      <th>2</th>\n",
       "      <td>rs3131969</td>\n",
       "      <td>1</td>\n",
       "      <td>754182</td>\n",
       "      <td>0.1282</td>\n",
       "      <td>A</td>\n",
       "      <td>G</td>\n",
       "      <td>3131969</td>\n",
       "    </tr>\n",
       "    <tr>\n",
       "      <th>3</th>\n",
       "      <td>rs1048488</td>\n",
       "      <td>1</td>\n",
       "      <td>760912</td>\n",
       "      <td>0.1600</td>\n",
       "      <td>C</td>\n",
       "      <td>T</td>\n",
       "      <td>1048488</td>\n",
       "    </tr>\n",
       "    <tr>\n",
       "      <th>4</th>\n",
       "      <td>rs3115850</td>\n",
       "      <td>1</td>\n",
       "      <td>761147</td>\n",
       "      <td>0.8390</td>\n",
       "      <td>C</td>\n",
       "      <td>T</td>\n",
       "      <td>3115850</td>\n",
       "    </tr>\n",
       "  </tbody>\n",
       "</table>\n",
       "</div>"
      ],
      "text/plain": [
       "   ref_rs_id  ref_chr  ref_bp  ref_af ref_allele ref_other_allele  ref_snp_num\n",
       "0  rs3094315        1  752566  0.8400          A                G      3094315\n",
       "1  rs3131972        1  752721  0.1610          A                G      3131972\n",
       "2  rs3131969        1  754182  0.1282          A                G      3131969\n",
       "3  rs1048488        1  760912  0.1600          C                T      1048488\n",
       "4  rs3115850        1  761147  0.8390          C                T      3115850"
      ]
     },
     "execution_count": 12,
     "metadata": {},
     "output_type": "execute_result"
    }
   ],
   "source": [
    "df.head()"
   ]
  },
  {
   "cell_type": "code",
   "execution_count": 4,
   "metadata": {},
   "outputs": [],
   "source": [
    "# extract core SNPs\n",
    "def extract_core_snps(df, distance_core_SNPs = 10**6):\n",
    "    for chrom in tqdm(range(1,23)):\n",
    "        temp = df[df[REF_chr]==chrom]\n",
    "        start = min(temp[REF_bp])\n",
    "        ind_to_drop = []\n",
    "        for index, row in temp.iterrows():\n",
    "            if row[REF_bp] < start + distance_core_SNPs:\n",
    "                ind_to_drop.append(index)\n",
    "            else:\n",
    "                start = row[REF_bp]\n",
    "        df.drop(ind_to_drop, inplace = True)\n",
    "    return(df)"
   ]
  },
  {
   "cell_type": "code",
   "execution_count": 5,
   "metadata": {},
   "outputs": [
    {
     "name": "stderr",
     "output_type": "stream",
     "text": [
      "100%|██████████| 22/22 [02:18<00:00,  6.31s/it]\n"
     ]
    }
   ],
   "source": [
    "filtered_snps = extract_core_snps(df)"
   ]
  },
  {
   "cell_type": "code",
   "execution_count": 6,
   "metadata": {},
   "outputs": [
    {
     "data": {
      "text/plain": [
       "(2659, 7)"
      ]
     },
     "execution_count": 6,
     "metadata": {},
     "output_type": "execute_result"
    }
   ],
   "source": [
    "filtered_snps.shape"
   ]
  },
  {
   "cell_type": "code",
   "execution_count": 7,
   "metadata": {
    "scrolled": true
   },
   "outputs": [
    {
     "data": {
      "text/html": [
       "<div>\n",
       "<style>\n",
       "    .dataframe thead tr:only-child th {\n",
       "        text-align: right;\n",
       "    }\n",
       "\n",
       "    .dataframe thead th {\n",
       "        text-align: left;\n",
       "    }\n",
       "\n",
       "    .dataframe tbody tr th {\n",
       "        vertical-align: top;\n",
       "    }\n",
       "</style>\n",
       "<table border=\"1\" class=\"dataframe\">\n",
       "  <thead>\n",
       "    <tr style=\"text-align: right;\">\n",
       "      <th></th>\n",
       "      <th>ref_rs_id</th>\n",
       "      <th>ref_chr</th>\n",
       "      <th>ref_bp</th>\n",
       "      <th>ref_af</th>\n",
       "      <th>ref_allele</th>\n",
       "      <th>ref_other_allele</th>\n",
       "      <th>ref_snp_num</th>\n",
       "    </tr>\n",
       "  </thead>\n",
       "  <tbody>\n",
       "    <tr>\n",
       "      <th>1143385</th>\n",
       "      <td>rs6077653</td>\n",
       "      <td>20</td>\n",
       "      <td>1062682</td>\n",
       "      <td>0.78130</td>\n",
       "      <td>C</td>\n",
       "      <td>T</td>\n",
       "      <td>6077653</td>\n",
       "    </tr>\n",
       "    <tr>\n",
       "      <th>1144032</th>\n",
       "      <td>rs6046629</td>\n",
       "      <td>20</td>\n",
       "      <td>2062981</td>\n",
       "      <td>0.92445</td>\n",
       "      <td>A</td>\n",
       "      <td>G</td>\n",
       "      <td>6046629</td>\n",
       "    </tr>\n",
       "    <tr>\n",
       "      <th>1144651</th>\n",
       "      <td>rs2282018</td>\n",
       "      <td>20</td>\n",
       "      <td>3064949</td>\n",
       "      <td>0.38470</td>\n",
       "      <td>C</td>\n",
       "      <td>T</td>\n",
       "      <td>2282018</td>\n",
       "    </tr>\n",
       "    <tr>\n",
       "      <th>1145136</th>\n",
       "      <td>rs6084603</td>\n",
       "      <td>20</td>\n",
       "      <td>4068793</td>\n",
       "      <td>0.04672</td>\n",
       "      <td>A</td>\n",
       "      <td>G</td>\n",
       "      <td>6084603</td>\n",
       "    </tr>\n",
       "    <tr>\n",
       "      <th>1145825</th>\n",
       "      <td>rs6038067</td>\n",
       "      <td>20</td>\n",
       "      <td>5072721</td>\n",
       "      <td>0.45130</td>\n",
       "      <td>G</td>\n",
       "      <td>T</td>\n",
       "      <td>6038067</td>\n",
       "    </tr>\n",
       "  </tbody>\n",
       "</table>\n",
       "</div>"
      ],
      "text/plain": [
       "         ref_rs_id  ref_chr   ref_bp   ref_af ref_allele ref_other_allele  \\\n",
       "1143385  rs6077653       20  1062682  0.78130          C                T   \n",
       "1144032  rs6046629       20  2062981  0.92445          A                G   \n",
       "1144651  rs2282018       20  3064949  0.38470          C                T   \n",
       "1145136  rs6084603       20  4068793  0.04672          A                G   \n",
       "1145825  rs6038067       20  5072721  0.45130          G                T   \n",
       "\n",
       "         ref_snp_num  \n",
       "1143385      6077653  \n",
       "1144032      6046629  \n",
       "1144651      2282018  \n",
       "1145136      6084603  \n",
       "1145825      6038067  "
      ]
     },
     "execution_count": 7,
     "metadata": {},
     "output_type": "execute_result"
    }
   ],
   "source": [
    "filtered_snps[filtered_snps[REF_chr]==20].head()"
   ]
  },
  {
   "cell_type": "code",
   "execution_count": 8,
   "metadata": {},
   "outputs": [],
   "source": [
    "filtered_snps.to_csv(\"core_snps.csv\", index=False, sep='\\t')"
   ]
  }
 ],
 "metadata": {
  "kernelspec": {
   "display_name": "Python 3",
   "language": "python",
   "name": "python3"
  },
  "language_info": {
   "codemirror_mode": {
    "name": "ipython",
    "version": 3
   },
   "file_extension": ".py",
   "mimetype": "text/x-python",
   "name": "python",
   "nbconvert_exporter": "python",
   "pygments_lexer": "ipython3",
   "version": "3.5.2"
  }
 },
 "nbformat": 4,
 "nbformat_minor": 2
}
