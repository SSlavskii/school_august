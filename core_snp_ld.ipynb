{
 "cells": [
  {
   "cell_type": "code",
   "execution_count": 11,
   "metadata": {},
   "outputs": [
    {
     "data": {
      "text/plain": [
       "(156950, 9)"
      ]
     },
     "execution_count": 11,
     "metadata": {},
     "output_type": "execute_result"
    }
   ],
   "source": [
    "import pandas as pd\n",
    "import matplotlib.pyplot as plt\n",
    "df = pd.read_csv(\"100M_all_chr_core.ld\", sep='\\t')\n",
    "df.shape\n"
   ]
  },
  {
   "cell_type": "code",
   "execution_count": 12,
   "metadata": {
    "scrolled": true
   },
   "outputs": [
    {
     "data": {
      "text/html": [
       "<div>\n",
       "<style>\n",
       "    .dataframe thead tr:only-child th {\n",
       "        text-align: right;\n",
       "    }\n",
       "\n",
       "    .dataframe thead th {\n",
       "        text-align: left;\n",
       "    }\n",
       "\n",
       "    .dataframe tbody tr th {\n",
       "        vertical-align: top;\n",
       "    }\n",
       "</style>\n",
       "<table border=\"1\" class=\"dataframe\">\n",
       "  <thead>\n",
       "    <tr style=\"text-align: right;\">\n",
       "      <th></th>\n",
       "      <th>CHR_A</th>\n",
       "      <th>BP_A</th>\n",
       "      <th>SNP_A</th>\n",
       "      <th>MAF_A</th>\n",
       "      <th>CHR_B</th>\n",
       "      <th>BP_B</th>\n",
       "      <th>SNP_B</th>\n",
       "      <th>MAF_B</th>\n",
       "      <th>R</th>\n",
       "      <th>dist</th>\n",
       "    </tr>\n",
       "  </thead>\n",
       "  <tbody>\n",
       "    <tr>\n",
       "      <th>0</th>\n",
       "      <td>1</td>\n",
       "      <td>1752955</td>\n",
       "      <td>rs4648726</td>\n",
       "      <td>0.253195</td>\n",
       "      <td>1</td>\n",
       "      <td>2754512</td>\n",
       "      <td>rs6680471</td>\n",
       "      <td>0.288738</td>\n",
       "      <td>-0.258363</td>\n",
       "      <td>1001557</td>\n",
       "    </tr>\n",
       "    <tr>\n",
       "      <th>1</th>\n",
       "      <td>1</td>\n",
       "      <td>1752955</td>\n",
       "      <td>rs4648726</td>\n",
       "      <td>0.253195</td>\n",
       "      <td>1</td>\n",
       "      <td>3755675</td>\n",
       "      <td>rs1891941</td>\n",
       "      <td>0.210463</td>\n",
       "      <td>-0.049471</td>\n",
       "      <td>2002720</td>\n",
       "    </tr>\n",
       "    <tr>\n",
       "      <th>2</th>\n",
       "      <td>1</td>\n",
       "      <td>1752955</td>\n",
       "      <td>rs4648726</td>\n",
       "      <td>0.253195</td>\n",
       "      <td>1</td>\n",
       "      <td>4756276</td>\n",
       "      <td>rs7518469</td>\n",
       "      <td>0.071286</td>\n",
       "      <td>-0.018682</td>\n",
       "      <td>3003321</td>\n",
       "    </tr>\n",
       "    <tr>\n",
       "      <th>3</th>\n",
       "      <td>1</td>\n",
       "      <td>1752955</td>\n",
       "      <td>rs4648726</td>\n",
       "      <td>0.253195</td>\n",
       "      <td>1</td>\n",
       "      <td>5758772</td>\n",
       "      <td>rs7521197</td>\n",
       "      <td>0.178914</td>\n",
       "      <td>0.110411</td>\n",
       "      <td>4005817</td>\n",
       "    </tr>\n",
       "    <tr>\n",
       "      <th>4</th>\n",
       "      <td>1</td>\n",
       "      <td>1752955</td>\n",
       "      <td>rs4648726</td>\n",
       "      <td>0.253195</td>\n",
       "      <td>1</td>\n",
       "      <td>6761261</td>\n",
       "      <td>rs429383</td>\n",
       "      <td>0.149760</td>\n",
       "      <td>-0.030746</td>\n",
       "      <td>5008306</td>\n",
       "    </tr>\n",
       "  </tbody>\n",
       "</table>\n",
       "</div>"
      ],
      "text/plain": [
       "   CHR_A     BP_A      SNP_A     MAF_A  CHR_B     BP_B      SNP_B     MAF_B  \\\n",
       "0      1  1752955  rs4648726  0.253195      1  2754512  rs6680471  0.288738   \n",
       "1      1  1752955  rs4648726  0.253195      1  3755675  rs1891941  0.210463   \n",
       "2      1  1752955  rs4648726  0.253195      1  4756276  rs7518469  0.071286   \n",
       "3      1  1752955  rs4648726  0.253195      1  5758772  rs7521197  0.178914   \n",
       "4      1  1752955  rs4648726  0.253195      1  6761261   rs429383  0.149760   \n",
       "\n",
       "          R     dist  \n",
       "0 -0.258363  1001557  \n",
       "1 -0.049471  2002720  \n",
       "2 -0.018682  3003321  \n",
       "3  0.110411  4005817  \n",
       "4 -0.030746  5008306  "
      ]
     },
     "execution_count": 12,
     "metadata": {},
     "output_type": "execute_result"
    }
   ],
   "source": [
    "df['dist'] = abs(df['BP_A'] - df['BP_B'])\n",
    "df.head()"
   ]
  },
  {
   "cell_type": "code",
   "execution_count": 13,
   "metadata": {},
   "outputs": [
    {
     "data": {
      "text/plain": [
       "(152393, 10)"
      ]
     },
     "execution_count": 13,
     "metadata": {},
     "output_type": "execute_result"
    }
   ],
   "source": [
    "df = df[(df[\"MAF_A\"]>0.1) | (df[\"MAF_B\"]>0.1)]\n",
    "df.shape"
   ]
  },
  {
   "cell_type": "code",
   "execution_count": 14,
   "metadata": {},
   "outputs": [
    {
     "data": {
      "image/png": "[encoded data removed]",
      "text/plain": [
       "<matplotlib.figure.Figure at 0x7fc6a3318780>"
      ]
     },
     "metadata": {},
     "output_type": "display_data"
    }
   ],
   "source": [
    "plt.scatter(x=df['dist'], y=abs(df['R']))\n",
    "plt.show()"
   ]
  },
  {
   "cell_type": "code",
   "execution_count": 22,
   "metadata": {},
   "outputs": [
    {
     "data": {
      "text/html": [
       "<div>\n",
       "<style>\n",
       "    .dataframe thead tr:only-child th {\n",
       "        text-align: right;\n",
       "    }\n",
       "\n",
       "    .dataframe thead th {\n",
       "        text-align: left;\n",
       "    }\n",
       "\n",
       "    .dataframe tbody tr th {\n",
       "        vertical-align: top;\n",
       "    }\n",
       "</style>\n",
       "<table border=\"1\" class=\"dataframe\">\n",
       "  <thead>\n",
       "    <tr style=\"text-align: right;\">\n",
       "      <th></th>\n",
       "      <th>CHR_A</th>\n",
       "      <th>BP_A</th>\n",
       "      <th>SNP_A</th>\n",
       "      <th>MAF_A</th>\n",
       "      <th>CHR_B</th>\n",
       "      <th>BP_B</th>\n",
       "      <th>SNP_B</th>\n",
       "      <th>MAF_B</th>\n",
       "      <th>R</th>\n",
       "      <th>dist</th>\n",
       "    </tr>\n",
       "  </thead>\n",
       "  <tbody>\n",
       "    <tr>\n",
       "      <th>6465</th>\n",
       "      <td>1</td>\n",
       "      <td>76961960</td>\n",
       "      <td>rs10873889</td>\n",
       "      <td>0.379393</td>\n",
       "      <td>1</td>\n",
       "      <td>103071348</td>\n",
       "      <td>rs1517433</td>\n",
       "      <td>0.180511</td>\n",
       "      <td>0.530707</td>\n",
       "      <td>26109388</td>\n",
       "    </tr>\n",
       "    <tr>\n",
       "      <th>6479</th>\n",
       "      <td>1</td>\n",
       "      <td>76961960</td>\n",
       "      <td>rs10873889</td>\n",
       "      <td>0.379393</td>\n",
       "      <td>1</td>\n",
       "      <td>117121865</td>\n",
       "      <td>rs12066192</td>\n",
       "      <td>0.382388</td>\n",
       "      <td>0.625253</td>\n",
       "      <td>40159905</td>\n",
       "    </tr>\n",
       "    <tr>\n",
       "      <th>6498</th>\n",
       "      <td>1</td>\n",
       "      <td>76961960</td>\n",
       "      <td>rs10873889</td>\n",
       "      <td>0.379393</td>\n",
       "      <td>1</td>\n",
       "      <td>159069211</td>\n",
       "      <td>rs1894043</td>\n",
       "      <td>0.465256</td>\n",
       "      <td>0.517286</td>\n",
       "      <td>82107251</td>\n",
       "    </tr>\n",
       "    <tr>\n",
       "      <th>8429</th>\n",
       "      <td>1</td>\n",
       "      <td>103071348</td>\n",
       "      <td>rs1517433</td>\n",
       "      <td>0.180511</td>\n",
       "      <td>1</td>\n",
       "      <td>117121865</td>\n",
       "      <td>rs12066192</td>\n",
       "      <td>0.382388</td>\n",
       "      <td>0.543262</td>\n",
       "      <td>14050517</td>\n",
       "    </tr>\n",
       "    <tr>\n",
       "      <th>9498</th>\n",
       "      <td>1</td>\n",
       "      <td>117121865</td>\n",
       "      <td>rs12066192</td>\n",
       "      <td>0.382388</td>\n",
       "      <td>1</td>\n",
       "      <td>159069211</td>\n",
       "      <td>rs1894043</td>\n",
       "      <td>0.465256</td>\n",
       "      <td>0.530010</td>\n",
       "      <td>41947346</td>\n",
       "    </tr>\n",
       "  </tbody>\n",
       "</table>\n",
       "</div>"
      ],
      "text/plain": [
       "      CHR_A       BP_A       SNP_A     MAF_A  CHR_B       BP_B       SNP_B  \\\n",
       "6465      1   76961960  rs10873889  0.379393      1  103071348   rs1517433   \n",
       "6479      1   76961960  rs10873889  0.379393      1  117121865  rs12066192   \n",
       "6498      1   76961960  rs10873889  0.379393      1  159069211   rs1894043   \n",
       "8429      1  103071348   rs1517433  0.180511      1  117121865  rs12066192   \n",
       "9498      1  117121865  rs12066192  0.382388      1  159069211   rs1894043   \n",
       "\n",
       "         MAF_B         R      dist  \n",
       "6465  0.180511  0.530707  26109388  \n",
       "6479  0.382388  0.625253  40159905  \n",
       "6498  0.465256  0.517286  82107251  \n",
       "8429  0.382388  0.543262  14050517  \n",
       "9498  0.465256  0.530010  41947346  "
      ]
     },
     "execution_count": 22,
     "metadata": {},
     "output_type": "execute_result"
    }
   ],
   "source": [
    "df[abs(df.R)>0.5].head()"
   ]
  },
  {
   "cell_type": "code",
   "execution_count": 24,
   "metadata": {},
   "outputs": [
    {
     "data": {
      "text/html": [
       "<div>\n",
       "<style>\n",
       "    .dataframe thead tr:only-child th {\n",
       "        text-align: right;\n",
       "    }\n",
       "\n",
       "    .dataframe thead th {\n",
       "        text-align: left;\n",
       "    }\n",
       "\n",
       "    .dataframe tbody tr th {\n",
       "        vertical-align: top;\n",
       "    }\n",
       "</style>\n",
       "<table border=\"1\" class=\"dataframe\">\n",
       "  <thead>\n",
       "    <tr style=\"text-align: right;\">\n",
       "      <th></th>\n",
       "      <th>CHR_A</th>\n",
       "      <th>BP_A</th>\n",
       "      <th>SNP_A</th>\n",
       "      <th>MAF_A</th>\n",
       "      <th>CHR_B</th>\n",
       "      <th>BP_B</th>\n",
       "      <th>SNP_B</th>\n",
       "      <th>MAF_B</th>\n",
       "      <th>R</th>\n",
       "      <th>dist</th>\n",
       "    </tr>\n",
       "  </thead>\n",
       "  <tbody>\n",
       "    <tr>\n",
       "      <th>94366</th>\n",
       "      <td>8</td>\n",
       "      <td>1165148</td>\n",
       "      <td>rs7388163</td>\n",
       "      <td>0.309704</td>\n",
       "      <td>8</td>\n",
       "      <td>43581443</td>\n",
       "      <td>rs8185850</td>\n",
       "      <td>0.266973</td>\n",
       "      <td>-0.150707</td>\n",
       "      <td>42416295</td>\n",
       "    </tr>\n",
       "    <tr>\n",
       "      <th>94462</th>\n",
       "      <td>8</td>\n",
       "      <td>2166253</td>\n",
       "      <td>rs7828819</td>\n",
       "      <td>0.356030</td>\n",
       "      <td>8</td>\n",
       "      <td>43581443</td>\n",
       "      <td>rs8185850</td>\n",
       "      <td>0.266973</td>\n",
       "      <td>0.314530</td>\n",
       "      <td>41415190</td>\n",
       "    </tr>\n",
       "    <tr>\n",
       "      <th>94558</th>\n",
       "      <td>8</td>\n",
       "      <td>3167217</td>\n",
       "      <td>rs10086567</td>\n",
       "      <td>0.181110</td>\n",
       "      <td>8</td>\n",
       "      <td>43581443</td>\n",
       "      <td>rs8185850</td>\n",
       "      <td>0.266973</td>\n",
       "      <td>-0.031765</td>\n",
       "      <td>40414226</td>\n",
       "    </tr>\n",
       "    <tr>\n",
       "      <th>94654</th>\n",
       "      <td>8</td>\n",
       "      <td>4167608</td>\n",
       "      <td>rs4875322</td>\n",
       "      <td>0.167532</td>\n",
       "      <td>8</td>\n",
       "      <td>43581443</td>\n",
       "      <td>rs8185850</td>\n",
       "      <td>0.266973</td>\n",
       "      <td>-0.114110</td>\n",
       "      <td>39413835</td>\n",
       "    </tr>\n",
       "    <tr>\n",
       "      <th>94750</th>\n",
       "      <td>8</td>\n",
       "      <td>5168886</td>\n",
       "      <td>rs12334622</td>\n",
       "      <td>0.311502</td>\n",
       "      <td>8</td>\n",
       "      <td>43581443</td>\n",
       "      <td>rs8185850</td>\n",
       "      <td>0.266973</td>\n",
       "      <td>0.287482</td>\n",
       "      <td>38412557</td>\n",
       "    </tr>\n",
       "  </tbody>\n",
       "</table>\n",
       "</div>"
      ],
      "text/plain": [
       "       CHR_A     BP_A       SNP_A     MAF_A  CHR_B      BP_B      SNP_B  \\\n",
       "94366      8  1165148   rs7388163  0.309704      8  43581443  rs8185850   \n",
       "94462      8  2166253   rs7828819  0.356030      8  43581443  rs8185850   \n",
       "94558      8  3167217  rs10086567  0.181110      8  43581443  rs8185850   \n",
       "94654      8  4167608   rs4875322  0.167532      8  43581443  rs8185850   \n",
       "94750      8  5168886  rs12334622  0.311502      8  43581443  rs8185850   \n",
       "\n",
       "          MAF_B         R      dist  \n",
       "94366  0.266973 -0.150707  42416295  \n",
       "94462  0.266973  0.314530  41415190  \n",
       "94558  0.266973 -0.031765  40414226  \n",
       "94654  0.266973 -0.114110  39413835  \n",
       "94750  0.266973  0.287482  38412557  "
      ]
     },
     "execution_count": 24,
     "metadata": {},
     "output_type": "execute_result"
    }
   ],
   "source": [
    "df[(df['SNP_B']==\"rs8185850\")| (df['SNP_A']==\"rs8185850\")].head()\n"
   ]
  },
  {
   "cell_type": "code",
   "execution_count": 25,
   "metadata": {},
   "outputs": [
    {
     "data": {
      "text/html": [
       "<div>\n",
       "<style>\n",
       "    .dataframe thead tr:only-child th {\n",
       "        text-align: right;\n",
       "    }\n",
       "\n",
       "    .dataframe thead th {\n",
       "        text-align: left;\n",
       "    }\n",
       "\n",
       "    .dataframe tbody tr th {\n",
       "        vertical-align: top;\n",
       "    }\n",
       "</style>\n",
       "<table border=\"1\" class=\"dataframe\">\n",
       "  <thead>\n",
       "    <tr style=\"text-align: right;\">\n",
       "      <th></th>\n",
       "      <th>CHR_A</th>\n",
       "      <th>BP_A</th>\n",
       "      <th>SNP_A</th>\n",
       "      <th>MAF_A</th>\n",
       "      <th>CHR_B</th>\n",
       "      <th>BP_B</th>\n",
       "      <th>SNP_B</th>\n",
       "      <th>MAF_B</th>\n",
       "      <th>R</th>\n",
       "      <th>dist</th>\n",
       "    </tr>\n",
       "  </thead>\n",
       "  <tbody>\n",
       "    <tr>\n",
       "      <th>94367</th>\n",
       "      <td>8</td>\n",
       "      <td>1165148</td>\n",
       "      <td>rs7388163</td>\n",
       "      <td>0.309704</td>\n",
       "      <td>8</td>\n",
       "      <td>46924211</td>\n",
       "      <td>rs2353200</td>\n",
       "      <td>0.21885</td>\n",
       "      <td>-0.106012</td>\n",
       "      <td>45759063</td>\n",
       "    </tr>\n",
       "    <tr>\n",
       "      <th>94463</th>\n",
       "      <td>8</td>\n",
       "      <td>2166253</td>\n",
       "      <td>rs7828819</td>\n",
       "      <td>0.356030</td>\n",
       "      <td>8</td>\n",
       "      <td>46924211</td>\n",
       "      <td>rs2353200</td>\n",
       "      <td>0.21885</td>\n",
       "      <td>0.242798</td>\n",
       "      <td>44757958</td>\n",
       "    </tr>\n",
       "    <tr>\n",
       "      <th>94559</th>\n",
       "      <td>8</td>\n",
       "      <td>3167217</td>\n",
       "      <td>rs10086567</td>\n",
       "      <td>0.181110</td>\n",
       "      <td>8</td>\n",
       "      <td>46924211</td>\n",
       "      <td>rs2353200</td>\n",
       "      <td>0.21885</td>\n",
       "      <td>0.001122</td>\n",
       "      <td>43756994</td>\n",
       "    </tr>\n",
       "    <tr>\n",
       "      <th>94655</th>\n",
       "      <td>8</td>\n",
       "      <td>4167608</td>\n",
       "      <td>rs4875322</td>\n",
       "      <td>0.167532</td>\n",
       "      <td>8</td>\n",
       "      <td>46924211</td>\n",
       "      <td>rs2353200</td>\n",
       "      <td>0.21885</td>\n",
       "      <td>-0.103106</td>\n",
       "      <td>42756603</td>\n",
       "    </tr>\n",
       "    <tr>\n",
       "      <th>94751</th>\n",
       "      <td>8</td>\n",
       "      <td>5168886</td>\n",
       "      <td>rs12334622</td>\n",
       "      <td>0.311502</td>\n",
       "      <td>8</td>\n",
       "      <td>46924211</td>\n",
       "      <td>rs2353200</td>\n",
       "      <td>0.21885</td>\n",
       "      <td>0.221595</td>\n",
       "      <td>41755325</td>\n",
       "    </tr>\n",
       "  </tbody>\n",
       "</table>\n",
       "</div>"
      ],
      "text/plain": [
       "       CHR_A     BP_A       SNP_A     MAF_A  CHR_B      BP_B      SNP_B  \\\n",
       "94367      8  1165148   rs7388163  0.309704      8  46924211  rs2353200   \n",
       "94463      8  2166253   rs7828819  0.356030      8  46924211  rs2353200   \n",
       "94559      8  3167217  rs10086567  0.181110      8  46924211  rs2353200   \n",
       "94655      8  4167608   rs4875322  0.167532      8  46924211  rs2353200   \n",
       "94751      8  5168886  rs12334622  0.311502      8  46924211  rs2353200   \n",
       "\n",
       "         MAF_B         R      dist  \n",
       "94367  0.21885 -0.106012  45759063  \n",
       "94463  0.21885  0.242798  44757958  \n",
       "94559  0.21885  0.001122  43756994  \n",
       "94655  0.21885 -0.103106  42756603  \n",
       "94751  0.21885  0.221595  41755325  "
      ]
     },
     "execution_count": 25,
     "metadata": {},
     "output_type": "execute_result"
    }
   ],
   "source": [
    "df[(df['SNP_B']==\"rs2353200\")| (df['SNP_A']==\"rs2353200\")].head()"
   ]
  },
  {
   "cell_type": "code",
   "execution_count": 28,
   "metadata": {},
   "outputs": [
    {
     "data": {
      "image/png": "[encoded data removed]",
      "text/plain": [
       "<matplotlib.figure.Figure at 0x7fc6a32a36d8>"
      ]
     },
     "metadata": {},
     "output_type": "display_data"
    }
   ],
   "source": [
    "plt.hist(df[df['dist']>1*10**6]['R'], bins = 20)\n",
    "plt.show()"
   ]
  },
  {
   "cell_type": "code",
   "execution_count": 19,
   "metadata": {},
   "outputs": [
    {
     "data": {
      "text/plain": [
       "0.21944139999999998"
      ]
     },
     "execution_count": 19,
     "metadata": {},
     "output_type": "execute_result"
    }
   ],
   "source": [
    "threshold = abs(df.R).quantile(0.95)\n",
    "threshold"
   ]
  },
  {
   "cell_type": "code",
   "execution_count": 20,
   "metadata": {},
   "outputs": [
    {
     "data": {
      "text/plain": [
       "1220"
      ]
     },
     "execution_count": 20,
     "metadata": {},
     "output_type": "execute_result"
    }
   ],
   "source": [
    "rs_ids_to_delete = set(df[abs(df.R)>threshold][['SNP_A', 'SNP_B']].values.T.ravel())\n",
    "len(rs_ids_to_delete)"
   ]
  },
  {
   "cell_type": "code",
   "execution_count": 30,
   "metadata": {},
   "outputs": [
    {
     "data": {
      "text/html": [
       "<div>\n",
       "<style>\n",
       "    .dataframe thead tr:only-child th {\n",
       "        text-align: right;\n",
       "    }\n",
       "\n",
       "    .dataframe thead th {\n",
       "        text-align: left;\n",
       "    }\n",
       "\n",
       "    .dataframe tbody tr th {\n",
       "        vertical-align: top;\n",
       "    }\n",
       "</style>\n",
       "<table border=\"1\" class=\"dataframe\">\n",
       "  <thead>\n",
       "    <tr style=\"text-align: right;\">\n",
       "      <th></th>\n",
       "      <th>ref_rs_id</th>\n",
       "      <th>ref_chr</th>\n",
       "      <th>ref_bp</th>\n",
       "      <th>ref_af</th>\n",
       "      <th>ref_allele</th>\n",
       "      <th>ref_other_allele</th>\n",
       "      <th>ref_snp_num</th>\n",
       "    </tr>\n",
       "  </thead>\n",
       "  <tbody>\n",
       "    <tr>\n",
       "      <th>0</th>\n",
       "      <td>rs4648726</td>\n",
       "      <td>1</td>\n",
       "      <td>1752955</td>\n",
       "      <td>0.06759</td>\n",
       "      <td>C</td>\n",
       "      <td>T</td>\n",
       "      <td>4648726</td>\n",
       "    </tr>\n",
       "    <tr>\n",
       "      <th>1</th>\n",
       "      <td>rs6680471</td>\n",
       "      <td>1</td>\n",
       "      <td>2754512</td>\n",
       "      <td>0.53180</td>\n",
       "      <td>C</td>\n",
       "      <td>T</td>\n",
       "      <td>6680471</td>\n",
       "    </tr>\n",
       "    <tr>\n",
       "      <th>2</th>\n",
       "      <td>rs1891941</td>\n",
       "      <td>1</td>\n",
       "      <td>3755675</td>\n",
       "      <td>0.94433</td>\n",
       "      <td>C</td>\n",
       "      <td>T</td>\n",
       "      <td>1891941</td>\n",
       "    </tr>\n",
       "    <tr>\n",
       "      <th>3</th>\n",
       "      <td>rs7518469</td>\n",
       "      <td>1</td>\n",
       "      <td>4756276</td>\n",
       "      <td>0.94036</td>\n",
       "      <td>G</td>\n",
       "      <td>T</td>\n",
       "      <td>7518469</td>\n",
       "    </tr>\n",
       "    <tr>\n",
       "      <th>4</th>\n",
       "      <td>rs7521197</td>\n",
       "      <td>1</td>\n",
       "      <td>5758772</td>\n",
       "      <td>0.07654</td>\n",
       "      <td>C</td>\n",
       "      <td>T</td>\n",
       "      <td>7521197</td>\n",
       "    </tr>\n",
       "  </tbody>\n",
       "</table>\n",
       "</div>"
      ],
      "text/plain": [
       "   ref_rs_id  ref_chr   ref_bp   ref_af ref_allele ref_other_allele  \\\n",
       "0  rs4648726        1  1752955  0.06759          C                T   \n",
       "1  rs6680471        1  2754512  0.53180          C                T   \n",
       "2  rs1891941        1  3755675  0.94433          C                T   \n",
       "3  rs7518469        1  4756276  0.94036          G                T   \n",
       "4  rs7521197        1  5758772  0.07654          C                T   \n",
       "\n",
       "   ref_snp_num  \n",
       "0      4648726  \n",
       "1      6680471  \n",
       "2      1891941  \n",
       "3      7518469  \n",
       "4      7521197  "
      ]
     },
     "execution_count": 30,
     "metadata": {},
     "output_type": "execute_result"
    }
   ],
   "source": [
    "core_table = pd.read_table('core_snps.csv')\n",
    "core_table.head()"
   ]
  },
  {
   "cell_type": "code",
   "execution_count": 50,
   "metadata": {},
   "outputs": [
    {
     "data": {
      "text/plain": [
       "(1439, 7)"
      ]
     },
     "execution_count": 50,
     "metadata": {},
     "output_type": "execute_result"
    }
   ],
   "source": [
    "core_table = core_table[~core_table.ref_rs_id.isin(rs_ids_to_delete)]\n",
    "core_table.shape"
   ]
  },
  {
   "cell_type": "code",
   "execution_count": 51,
   "metadata": {},
   "outputs": [],
   "source": [
    "core_table.to_csv(\"core_snps_filtered.csv\", index=False, sep='\\t')"
   ]
  }
 ],
 "metadata": {
  "kernelspec": {
   "display_name": "Python 3",
   "language": "python",
   "name": "python3"
  },
  "language_info": {
   "codemirror_mode": {
    "name": "ipython",
    "version": 3
   },
   "file_extension": ".py",
   "mimetype": "text/x-python",
   "name": "python",
   "nbconvert_exporter": "python",
   "pygments_lexer": "ipython3",
   "version": "3.5.2"
  }
 },
 "nbformat": 4,
 "nbformat_minor": 2
}
